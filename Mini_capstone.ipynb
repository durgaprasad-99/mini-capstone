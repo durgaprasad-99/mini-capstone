{
  "nbformat": 4,
  "nbformat_minor": 0,
  "metadata": {
    "colab": {
      "name": "K. Durga prasad Mini capstone.ipynb",
      "provenance": [],
      "collapsed_sections": []
    },
    "kernelspec": {
      "name": "python3",
      "display_name": "Python 3"
    },
    "language_info": {
      "name": "python"
    }
  },
  "cells": [
    {
      "cell_type": "markdown",
      "source": [
        "INTRODUCTION\n",
        "\n",
        "A fictional telco company that provided home phone and Internet services to 7043 customers in California in Quarter 3 of the fiscal year.\n",
        "\n",
        "Data Description\n",
        "CustomerID: A unique ID that identifies each customer.\n",
        "Country: The country of the customer’s primary residence.\n",
        "State: The state of the customer’s primary residence.\n",
        "City: The city of the customer’s primary residence.\n",
        "Zip Code: The zip code of the customer’s primary residence.\n",
        "Gender: The customer’s gender: Male, Female\n",
        "Senior Citizen: Indicates if the customer is 65 or older: Yes, No\n",
        "Partner: Indicate if the customer has a partner: Yes, No\n",
        "Dependents: Indicates if the customer lives with any dependents: Yes, No. Dependents could be children, parents, grandparents, etc.\n",
        "Phone Service: Indicates if the customer subscribes to home phone service with the company: Yes, No\n",
        "Internet Service: Indicates if the customer subscribes to Internet service with the company: No, DSL, Fiber Optic, Cable.\n"
      ],
      "metadata": {
        "id": "pS0nYQV2Af_K"
      }
    },
    {
      "cell_type": "code",
      "execution_count": 1,
      "metadata": {
        "id": "_0I_f3pWCixc"
      },
      "outputs": [],
      "source": [
        "# import the libraries\n",
        "import pandas as pd \n",
        "import numpy as np\n",
        "import matplotlib.pyplot as plt\n",
        "import seaborn as sns"
      ]
    },
    {
      "cell_type": "code",
      "source": [
        "#Q1: Please read the file and explain data types statistically as well as how python is reading it. \n",
        "#Please let us know if any data type is read wrong.\n",
        "\n",
        "\n",
        "# read the file\n",
        "telco = pd.read_excel(\"/content/Telco_customer_churn.xlsx\") # givin the variable name as \"telco\".\n",
        "telco #print output\n"
      ],
      "metadata": {
        "colab": {
          "base_uri": "https://localhost:8080/",
          "height": 748
        },
        "id": "P-J2h1_oCqLP",
        "outputId": "91bbad8f-2348-4fb3-dcf3-45a3e056b905"
      },
      "execution_count": 2,
      "outputs": [
        {
          "output_type": "execute_result",
          "data": {
            "text/plain": [
              "      CustomerID  Count        Country       State          City  Zip Code  \\\n",
              "0     3668-QPYBK    1.0  United States  California   Los Angeles   90003.0   \n",
              "1     9237-HQITU    1.0  United States  California   Los Angeles   90005.0   \n",
              "2     9305-CDSKC    1.0  United States  California   Los Angeles   90006.0   \n",
              "3     7892-POOKP    1.0  United States  California   Los Angeles   90010.0   \n",
              "4     0280-XJGEX    1.0  United States  California   Los Angeles   90015.0   \n",
              "...          ...    ...            ...         ...           ...       ...   \n",
              "7038  2569-WGERO    1.0  United States  California       Landers   92285.0   \n",
              "7039  6840-RESVB    1.0  United States  California      Adelanto   92301.0   \n",
              "7040  2234-XADUH    1.0  United States  California         Amboy   92304.0   \n",
              "7041  4801-JZAZL    1.0  United States  California  Angelus Oaks   92305.0   \n",
              "7042  3186-AJIEK    1.0  United States  California  Apple Valley   92308.0   \n",
              "\n",
              "                    Lat Long   Latitude   Longitude  Gender  ...  \\\n",
              "0     33.964131, -118.272783  33.964131 -118.272783    Male  ...   \n",
              "1      34.059281, -118.30742  34.059281 -118.307420  Female  ...   \n",
              "2     34.048013, -118.293953  34.048013 -118.293953  Female  ...   \n",
              "3     34.062125, -118.315709  34.062125 -118.315709  Female  ...   \n",
              "4     34.039224, -118.266293  34.039224 -118.266293    Male  ...   \n",
              "...                      ...        ...         ...     ...  ...   \n",
              "7038  34.341737, -116.539416  34.341737 -116.539416  Female  ...   \n",
              "7039  34.667815, -117.536183  34.667815 -117.536183    Male  ...   \n",
              "7040  34.559882, -115.637164  34.559882 -115.637164  Female  ...   \n",
              "7041     34.1678, -116.86433  34.167800 -116.864330  Female  ...   \n",
              "7042  34.424926, -117.184503  34.424926 -117.184503    Male  ...   \n",
              "\n",
              "            Contract Paperless Billing             Payment Method  \\\n",
              "0     Month-to-month               Yes               Mailed check   \n",
              "1     Month-to-month               Yes           Electronic check   \n",
              "2     Month-to-month               Yes           Electronic check   \n",
              "3     Month-to-month               Yes           Electronic check   \n",
              "4     Month-to-month               Yes  Bank transfer (automatic)   \n",
              "...              ...               ...                        ...   \n",
              "7038        Two year               Yes  Bank transfer (automatic)   \n",
              "7039        One year               Yes               Mailed check   \n",
              "7040        One year               Yes    Credit card (automatic)   \n",
              "7041  Month-to-month               Yes           Electronic check   \n",
              "7042        Two year               Yes  Bank transfer (automatic)   \n",
              "\n",
              "      Monthly Charges Total Charges Churn Label Churn Value Churn Score  \\\n",
              "0               53.85        108.15         Yes         1.0        86.0   \n",
              "1               70.70        151.65         Yes         1.0        67.0   \n",
              "2               99.65         820.5         Yes         1.0        86.0   \n",
              "3              104.80       3046.05         Yes         1.0        84.0   \n",
              "4              103.70        5036.3         Yes         1.0        89.0   \n",
              "...               ...           ...         ...         ...         ...   \n",
              "7038            21.15        1419.4          No         0.0        45.0   \n",
              "7039            84.80        1990.5          No         0.0        59.0   \n",
              "7040           103.20        7362.9          No         0.0        71.0   \n",
              "7041            29.60        346.45          No         0.0        59.0   \n",
              "7042           105.65        6844.5          No         0.0        38.0   \n",
              "\n",
              "        CLTV                   Churn Reason  \n",
              "0     3239.0   Competitor made better offer  \n",
              "1     2701.0                          Moved  \n",
              "2     5372.0                          Moved  \n",
              "3     5003.0                          Moved  \n",
              "4     5340.0  Competitor had better devices  \n",
              "...      ...                            ...  \n",
              "7038  5306.0                            NaN  \n",
              "7039  2140.0                            NaN  \n",
              "7040  5560.0                            NaN  \n",
              "7041  2793.0                            NaN  \n",
              "7042  5097.0                            NaN  \n",
              "\n",
              "[7043 rows x 33 columns]"
            ],
            "text/html": [
              "\n",
              "  <div id=\"df-e70c34f8-2d19-4e36-96a1-a73d85c1c12d\">\n",
              "    <div class=\"colab-df-container\">\n",
              "      <div>\n",
              "<style scoped>\n",
              "    .dataframe tbody tr th:only-of-type {\n",
              "        vertical-align: middle;\n",
              "    }\n",
              "\n",
              "    .dataframe tbody tr th {\n",
              "        vertical-align: top;\n",
              "    }\n",
              "\n",
              "    .dataframe thead th {\n",
              "        text-align: right;\n",
              "    }\n",
              "</style>\n",
              "<table border=\"1\" class=\"dataframe\">\n",
              "  <thead>\n",
              "    <tr style=\"text-align: right;\">\n",
              "      <th></th>\n",
              "      <th>CustomerID</th>\n",
              "      <th>Count</th>\n",
              "      <th>Country</th>\n",
              "      <th>State</th>\n",
              "      <th>City</th>\n",
              "      <th>Zip Code</th>\n",
              "      <th>Lat Long</th>\n",
              "      <th>Latitude</th>\n",
              "      <th>Longitude</th>\n",
              "      <th>Gender</th>\n",
              "      <th>...</th>\n",
              "      <th>Contract</th>\n",
              "      <th>Paperless Billing</th>\n",
              "      <th>Payment Method</th>\n",
              "      <th>Monthly Charges</th>\n",
              "      <th>Total Charges</th>\n",
              "      <th>Churn Label</th>\n",
              "      <th>Churn Value</th>\n",
              "      <th>Churn Score</th>\n",
              "      <th>CLTV</th>\n",
              "      <th>Churn Reason</th>\n",
              "    </tr>\n",
              "  </thead>\n",
              "  <tbody>\n",
              "    <tr>\n",
              "      <th>0</th>\n",
              "      <td>3668-QPYBK</td>\n",
              "      <td>1.0</td>\n",
              "      <td>United States</td>\n",
              "      <td>California</td>\n",
              "      <td>Los Angeles</td>\n",
              "      <td>90003.0</td>\n",
              "      <td>33.964131, -118.272783</td>\n",
              "      <td>33.964131</td>\n",
              "      <td>-118.272783</td>\n",
              "      <td>Male</td>\n",
              "      <td>...</td>\n",
              "      <td>Month-to-month</td>\n",
              "      <td>Yes</td>\n",
              "      <td>Mailed check</td>\n",
              "      <td>53.85</td>\n",
              "      <td>108.15</td>\n",
              "      <td>Yes</td>\n",
              "      <td>1.0</td>\n",
              "      <td>86.0</td>\n",
              "      <td>3239.0</td>\n",
              "      <td>Competitor made better offer</td>\n",
              "    </tr>\n",
              "    <tr>\n",
              "      <th>1</th>\n",
              "      <td>9237-HQITU</td>\n",
              "      <td>1.0</td>\n",
              "      <td>United States</td>\n",
              "      <td>California</td>\n",
              "      <td>Los Angeles</td>\n",
              "      <td>90005.0</td>\n",
              "      <td>34.059281, -118.30742</td>\n",
              "      <td>34.059281</td>\n",
              "      <td>-118.307420</td>\n",
              "      <td>Female</td>\n",
              "      <td>...</td>\n",
              "      <td>Month-to-month</td>\n",
              "      <td>Yes</td>\n",
              "      <td>Electronic check</td>\n",
              "      <td>70.70</td>\n",
              "      <td>151.65</td>\n",
              "      <td>Yes</td>\n",
              "      <td>1.0</td>\n",
              "      <td>67.0</td>\n",
              "      <td>2701.0</td>\n",
              "      <td>Moved</td>\n",
              "    </tr>\n",
              "    <tr>\n",
              "      <th>2</th>\n",
              "      <td>9305-CDSKC</td>\n",
              "      <td>1.0</td>\n",
              "      <td>United States</td>\n",
              "      <td>California</td>\n",
              "      <td>Los Angeles</td>\n",
              "      <td>90006.0</td>\n",
              "      <td>34.048013, -118.293953</td>\n",
              "      <td>34.048013</td>\n",
              "      <td>-118.293953</td>\n",
              "      <td>Female</td>\n",
              "      <td>...</td>\n",
              "      <td>Month-to-month</td>\n",
              "      <td>Yes</td>\n",
              "      <td>Electronic check</td>\n",
              "      <td>99.65</td>\n",
              "      <td>820.5</td>\n",
              "      <td>Yes</td>\n",
              "      <td>1.0</td>\n",
              "      <td>86.0</td>\n",
              "      <td>5372.0</td>\n",
              "      <td>Moved</td>\n",
              "    </tr>\n",
              "    <tr>\n",
              "      <th>3</th>\n",
              "      <td>7892-POOKP</td>\n",
              "      <td>1.0</td>\n",
              "      <td>United States</td>\n",
              "      <td>California</td>\n",
              "      <td>Los Angeles</td>\n",
              "      <td>90010.0</td>\n",
              "      <td>34.062125, -118.315709</td>\n",
              "      <td>34.062125</td>\n",
              "      <td>-118.315709</td>\n",
              "      <td>Female</td>\n",
              "      <td>...</td>\n",
              "      <td>Month-to-month</td>\n",
              "      <td>Yes</td>\n",
              "      <td>Electronic check</td>\n",
              "      <td>104.80</td>\n",
              "      <td>3046.05</td>\n",
              "      <td>Yes</td>\n",
              "      <td>1.0</td>\n",
              "      <td>84.0</td>\n",
              "      <td>5003.0</td>\n",
              "      <td>Moved</td>\n",
              "    </tr>\n",
              "    <tr>\n",
              "      <th>4</th>\n",
              "      <td>0280-XJGEX</td>\n",
              "      <td>1.0</td>\n",
              "      <td>United States</td>\n",
              "      <td>California</td>\n",
              "      <td>Los Angeles</td>\n",
              "      <td>90015.0</td>\n",
              "      <td>34.039224, -118.266293</td>\n",
              "      <td>34.039224</td>\n",
              "      <td>-118.266293</td>\n",
              "      <td>Male</td>\n",
              "      <td>...</td>\n",
              "      <td>Month-to-month</td>\n",
              "      <td>Yes</td>\n",
              "      <td>Bank transfer (automatic)</td>\n",
              "      <td>103.70</td>\n",
              "      <td>5036.3</td>\n",
              "      <td>Yes</td>\n",
              "      <td>1.0</td>\n",
              "      <td>89.0</td>\n",
              "      <td>5340.0</td>\n",
              "      <td>Competitor had better devices</td>\n",
              "    </tr>\n",
              "    <tr>\n",
              "      <th>...</th>\n",
              "      <td>...</td>\n",
              "      <td>...</td>\n",
              "      <td>...</td>\n",
              "      <td>...</td>\n",
              "      <td>...</td>\n",
              "      <td>...</td>\n",
              "      <td>...</td>\n",
              "      <td>...</td>\n",
              "      <td>...</td>\n",
              "      <td>...</td>\n",
              "      <td>...</td>\n",
              "      <td>...</td>\n",
              "      <td>...</td>\n",
              "      <td>...</td>\n",
              "      <td>...</td>\n",
              "      <td>...</td>\n",
              "      <td>...</td>\n",
              "      <td>...</td>\n",
              "      <td>...</td>\n",
              "      <td>...</td>\n",
              "      <td>...</td>\n",
              "    </tr>\n",
              "    <tr>\n",
              "      <th>7038</th>\n",
              "      <td>2569-WGERO</td>\n",
              "      <td>1.0</td>\n",
              "      <td>United States</td>\n",
              "      <td>California</td>\n",
              "      <td>Landers</td>\n",
              "      <td>92285.0</td>\n",
              "      <td>34.341737, -116.539416</td>\n",
              "      <td>34.341737</td>\n",
              "      <td>-116.539416</td>\n",
              "      <td>Female</td>\n",
              "      <td>...</td>\n",
              "      <td>Two year</td>\n",
              "      <td>Yes</td>\n",
              "      <td>Bank transfer (automatic)</td>\n",
              "      <td>21.15</td>\n",
              "      <td>1419.4</td>\n",
              "      <td>No</td>\n",
              "      <td>0.0</td>\n",
              "      <td>45.0</td>\n",
              "      <td>5306.0</td>\n",
              "      <td>NaN</td>\n",
              "    </tr>\n",
              "    <tr>\n",
              "      <th>7039</th>\n",
              "      <td>6840-RESVB</td>\n",
              "      <td>1.0</td>\n",
              "      <td>United States</td>\n",
              "      <td>California</td>\n",
              "      <td>Adelanto</td>\n",
              "      <td>92301.0</td>\n",
              "      <td>34.667815, -117.536183</td>\n",
              "      <td>34.667815</td>\n",
              "      <td>-117.536183</td>\n",
              "      <td>Male</td>\n",
              "      <td>...</td>\n",
              "      <td>One year</td>\n",
              "      <td>Yes</td>\n",
              "      <td>Mailed check</td>\n",
              "      <td>84.80</td>\n",
              "      <td>1990.5</td>\n",
              "      <td>No</td>\n",
              "      <td>0.0</td>\n",
              "      <td>59.0</td>\n",
              "      <td>2140.0</td>\n",
              "      <td>NaN</td>\n",
              "    </tr>\n",
              "    <tr>\n",
              "      <th>7040</th>\n",
              "      <td>2234-XADUH</td>\n",
              "      <td>1.0</td>\n",
              "      <td>United States</td>\n",
              "      <td>California</td>\n",
              "      <td>Amboy</td>\n",
              "      <td>92304.0</td>\n",
              "      <td>34.559882, -115.637164</td>\n",
              "      <td>34.559882</td>\n",
              "      <td>-115.637164</td>\n",
              "      <td>Female</td>\n",
              "      <td>...</td>\n",
              "      <td>One year</td>\n",
              "      <td>Yes</td>\n",
              "      <td>Credit card (automatic)</td>\n",
              "      <td>103.20</td>\n",
              "      <td>7362.9</td>\n",
              "      <td>No</td>\n",
              "      <td>0.0</td>\n",
              "      <td>71.0</td>\n",
              "      <td>5560.0</td>\n",
              "      <td>NaN</td>\n",
              "    </tr>\n",
              "    <tr>\n",
              "      <th>7041</th>\n",
              "      <td>4801-JZAZL</td>\n",
              "      <td>1.0</td>\n",
              "      <td>United States</td>\n",
              "      <td>California</td>\n",
              "      <td>Angelus Oaks</td>\n",
              "      <td>92305.0</td>\n",
              "      <td>34.1678, -116.86433</td>\n",
              "      <td>34.167800</td>\n",
              "      <td>-116.864330</td>\n",
              "      <td>Female</td>\n",
              "      <td>...</td>\n",
              "      <td>Month-to-month</td>\n",
              "      <td>Yes</td>\n",
              "      <td>Electronic check</td>\n",
              "      <td>29.60</td>\n",
              "      <td>346.45</td>\n",
              "      <td>No</td>\n",
              "      <td>0.0</td>\n",
              "      <td>59.0</td>\n",
              "      <td>2793.0</td>\n",
              "      <td>NaN</td>\n",
              "    </tr>\n",
              "    <tr>\n",
              "      <th>7042</th>\n",
              "      <td>3186-AJIEK</td>\n",
              "      <td>1.0</td>\n",
              "      <td>United States</td>\n",
              "      <td>California</td>\n",
              "      <td>Apple Valley</td>\n",
              "      <td>92308.0</td>\n",
              "      <td>34.424926, -117.184503</td>\n",
              "      <td>34.424926</td>\n",
              "      <td>-117.184503</td>\n",
              "      <td>Male</td>\n",
              "      <td>...</td>\n",
              "      <td>Two year</td>\n",
              "      <td>Yes</td>\n",
              "      <td>Bank transfer (automatic)</td>\n",
              "      <td>105.65</td>\n",
              "      <td>6844.5</td>\n",
              "      <td>No</td>\n",
              "      <td>0.0</td>\n",
              "      <td>38.0</td>\n",
              "      <td>5097.0</td>\n",
              "      <td>NaN</td>\n",
              "    </tr>\n",
              "  </tbody>\n",
              "</table>\n",
              "<p>7043 rows × 33 columns</p>\n",
              "</div>\n",
              "      <button class=\"colab-df-convert\" onclick=\"convertToInteractive('df-e70c34f8-2d19-4e36-96a1-a73d85c1c12d')\"\n",
              "              title=\"Convert this dataframe to an interactive table.\"\n",
              "              style=\"display:none;\">\n",
              "        \n",
              "  <svg xmlns=\"http://www.w3.org/2000/svg\" height=\"24px\"viewBox=\"0 0 24 24\"\n",
              "       width=\"24px\">\n",
              "    <path d=\"M0 0h24v24H0V0z\" fill=\"none\"/>\n",
              "    <path d=\"M18.56 5.44l.94 2.06.94-2.06 2.06-.94-2.06-.94-.94-2.06-.94 2.06-2.06.94zm-11 1L8.5 8.5l.94-2.06 2.06-.94-2.06-.94L8.5 2.5l-.94 2.06-2.06.94zm10 10l.94 2.06.94-2.06 2.06-.94-2.06-.94-.94-2.06-.94 2.06-2.06.94z\"/><path d=\"M17.41 7.96l-1.37-1.37c-.4-.4-.92-.59-1.43-.59-.52 0-1.04.2-1.43.59L10.3 9.45l-7.72 7.72c-.78.78-.78 2.05 0 2.83L4 21.41c.39.39.9.59 1.41.59.51 0 1.02-.2 1.41-.59l7.78-7.78 2.81-2.81c.8-.78.8-2.07 0-2.86zM5.41 20L4 18.59l7.72-7.72 1.47 1.35L5.41 20z\"/>\n",
              "  </svg>\n",
              "      </button>\n",
              "      \n",
              "  <style>\n",
              "    .colab-df-container {\n",
              "      display:flex;\n",
              "      flex-wrap:wrap;\n",
              "      gap: 12px;\n",
              "    }\n",
              "\n",
              "    .colab-df-convert {\n",
              "      background-color: #E8F0FE;\n",
              "      border: none;\n",
              "      border-radius: 50%;\n",
              "      cursor: pointer;\n",
              "      display: none;\n",
              "      fill: #1967D2;\n",
              "      height: 32px;\n",
              "      padding: 0 0 0 0;\n",
              "      width: 32px;\n",
              "    }\n",
              "\n",
              "    .colab-df-convert:hover {\n",
              "      background-color: #E2EBFA;\n",
              "      box-shadow: 0px 1px 2px rgba(60, 64, 67, 0.3), 0px 1px 3px 1px rgba(60, 64, 67, 0.15);\n",
              "      fill: #174EA6;\n",
              "    }\n",
              "\n",
              "    [theme=dark] .colab-df-convert {\n",
              "      background-color: #3B4455;\n",
              "      fill: #D2E3FC;\n",
              "    }\n",
              "\n",
              "    [theme=dark] .colab-df-convert:hover {\n",
              "      background-color: #434B5C;\n",
              "      box-shadow: 0px 1px 3px 1px rgba(0, 0, 0, 0.15);\n",
              "      filter: drop-shadow(0px 1px 2px rgba(0, 0, 0, 0.3));\n",
              "      fill: #FFFFFF;\n",
              "    }\n",
              "  </style>\n",
              "\n",
              "      <script>\n",
              "        const buttonEl =\n",
              "          document.querySelector('#df-e70c34f8-2d19-4e36-96a1-a73d85c1c12d button.colab-df-convert');\n",
              "        buttonEl.style.display =\n",
              "          google.colab.kernel.accessAllowed ? 'block' : 'none';\n",
              "\n",
              "        async function convertToInteractive(key) {\n",
              "          const element = document.querySelector('#df-e70c34f8-2d19-4e36-96a1-a73d85c1c12d');\n",
              "          const dataTable =\n",
              "            await google.colab.kernel.invokeFunction('convertToInteractive',\n",
              "                                                     [key], {});\n",
              "          if (!dataTable) return;\n",
              "\n",
              "          const docLinkHtml = 'Like what you see? Visit the ' +\n",
              "            '<a target=\"_blank\" href=https://colab.research.google.com/notebooks/data_table.ipynb>data table notebook</a>'\n",
              "            + ' to learn more about interactive tables.';\n",
              "          element.innerHTML = '';\n",
              "          dataTable['output_type'] = 'display_data';\n",
              "          await google.colab.output.renderOutput(dataTable, element);\n",
              "          const docLink = document.createElement('div');\n",
              "          docLink.innerHTML = docLinkHtml;\n",
              "          element.appendChild(docLink);\n",
              "        }\n",
              "      </script>\n",
              "    </div>\n",
              "  </div>\n",
              "  "
            ]
          },
          "metadata": {},
          "execution_count": 2
        }
      ]
    },
    {
      "cell_type": "code",
      "source": [
        "telco.info()"
      ],
      "metadata": {
        "colab": {
          "base_uri": "https://localhost:8080/"
        },
        "id": "9bxYllldq6PZ",
        "outputId": "68da9c2f-884f-49d4-e215-a2c50c8ef062"
      },
      "execution_count": null,
      "outputs": [
        {
          "output_type": "stream",
          "name": "stdout",
          "text": [
            "<class 'pandas.core.frame.DataFrame'>\n",
            "RangeIndex: 7043 entries, 0 to 7042\n",
            "Data columns (total 33 columns):\n",
            " #   Column             Non-Null Count  Dtype  \n",
            "---  ------             --------------  -----  \n",
            " 0   CustomerID         7043 non-null   object \n",
            " 1   Count              7043 non-null   float64\n",
            " 2   Country            7043 non-null   object \n",
            " 3   State              7043 non-null   object \n",
            " 4   City               7043 non-null   object \n",
            " 5   Zip Code           7043 non-null   float64\n",
            " 6   Lat Long           7043 non-null   object \n",
            " 7   Latitude           7043 non-null   float64\n",
            " 8   Longitude          7043 non-null   float64\n",
            " 9   Gender             7043 non-null   object \n",
            " 10  Senior Citizen     7043 non-null   object \n",
            " 11  Partner            7043 non-null   object \n",
            " 12  Dependents         7043 non-null   object \n",
            " 13  Tenure Months      7043 non-null   float64\n",
            " 14  Phone Service      7043 non-null   object \n",
            " 15  Multiple Lines     7043 non-null   object \n",
            " 16  Internet Service   7043 non-null   object \n",
            " 17  Online Security    7043 non-null   object \n",
            " 18  Online Backup      7043 non-null   object \n",
            " 19  Device Protection  7043 non-null   object \n",
            " 20  Tech Support       7043 non-null   object \n",
            " 21  Streaming TV       7043 non-null   object \n",
            " 22  Streaming Movies   7043 non-null   object \n",
            " 23  Contract           7043 non-null   object \n",
            " 24  Paperless Billing  7043 non-null   object \n",
            " 25  Payment Method     7043 non-null   object \n",
            " 26  Monthly Charges    7043 non-null   float64\n",
            " 27  Total Charges      7043 non-null   object \n",
            " 28  Churn Label        7043 non-null   object \n",
            " 29  Churn Value        7043 non-null   float64\n",
            " 30  Churn Score        7043 non-null   float64\n",
            " 31  CLTV               7043 non-null   float64\n",
            " 32  Churn Reason       1869 non-null   object \n",
            "dtypes: float64(9), object(24)\n",
            "memory usage: 1.8+ MB\n"
          ]
        }
      ]
    },
    {
      "cell_type": "markdown",
      "source": [
        "There are 5174 null values in churn Resaon column,rest are non-null. And here python is reading Total Charges column values as Object but it is float data type "
      ],
      "metadata": {
        "id": "jXOrD-tWOoak"
      }
    },
    {
      "cell_type": "code",
      "source": [
        "#telco[\"Total Charges\"].values\n",
        "pd.to_numeric(telco[\"Total Charges\"],errors = \"coerce\").isnull()"
      ],
      "metadata": {
        "colab": {
          "base_uri": "https://localhost:8080/"
        },
        "id": "I3KhARWbwR0l",
        "outputId": "99dfdd36-3d22-4e88-b8a1-5a086ed9cdcb"
      },
      "execution_count": null,
      "outputs": [
        {
          "output_type": "execute_result",
          "data": {
            "text/plain": [
              "0       False\n",
              "1       False\n",
              "2       False\n",
              "3       False\n",
              "4       False\n",
              "        ...  \n",
              "7038    False\n",
              "7039    False\n",
              "7040    False\n",
              "7041    False\n",
              "7042    False\n",
              "Name: Total Charges, Length: 7043, dtype: bool"
            ]
          },
          "metadata": {},
          "execution_count": 5
        }
      ]
    },
    {
      "cell_type": "code",
      "source": [
        "telco[pd.to_numeric(telco[\"Total Charges\"],errors = \"coerce\").isnull()]"
      ],
      "metadata": {
        "colab": {
          "base_uri": "https://localhost:8080/",
          "height": 730
        },
        "id": "vYKRQxFQz4FS",
        "outputId": "92e8fd8f-0f67-42c2-950b-2c9d7f53230f"
      },
      "execution_count": null,
      "outputs": [
        {
          "output_type": "execute_result",
          "data": {
            "text/plain": [
              "      CustomerID  Count        Country       State            City  Zip Code  \\\n",
              "2234  4472-LVYGI    1.0  United States  California  San Bernardino   92408.0   \n",
              "2438  3115-CZMZD    1.0  United States  California    Independence   93526.0   \n",
              "2568  5709-LVOEQ    1.0  United States  California       San Mateo   94401.0   \n",
              "2667  4367-NUYAO    1.0  United States  California       Cupertino   95014.0   \n",
              "2856  1371-DWPAZ    1.0  United States  California        Redcrest   95569.0   \n",
              "4331  7644-OMVMY    1.0  United States  California     Los Angeles   90029.0   \n",
              "4687  3213-VVOLG    1.0  United States  California        Sun City   92585.0   \n",
              "5104  2520-SGTTA    1.0  United States  California      Ben Lomond   95005.0   \n",
              "5719  2923-ARZLG    1.0  United States  California        La Verne   91750.0   \n",
              "6772  4075-WKNIU    1.0  United States  California            Bell   90201.0   \n",
              "6840  2775-SEFEE    1.0  United States  California      Wilmington   90744.0   \n",
              "\n",
              "                    Lat Long   Latitude   Longitude  Gender  ...  Contract  \\\n",
              "2234  34.084909, -117.258107  34.084909 -117.258107  Female  ...  Two year   \n",
              "2438  36.869584, -118.189241  36.869584 -118.189241    Male  ...  Two year   \n",
              "2568  37.590421, -122.306467  37.590421 -122.306467  Female  ...  Two year   \n",
              "2667  37.306612, -122.080621  37.306612 -122.080621    Male  ...  Two year   \n",
              "2856  40.363446, -123.835041  40.363446 -123.835041  Female  ...  Two year   \n",
              "4331  34.089953, -118.294824  34.089953 -118.294824    Male  ...  Two year   \n",
              "4687  33.739412, -117.173334  33.739412 -117.173334    Male  ...  Two year   \n",
              "5104  37.078873, -122.090386  37.078873 -122.090386  Female  ...  Two year   \n",
              "5719  34.144703, -117.770299  34.144703 -117.770299    Male  ...  One year   \n",
              "6772  33.970343, -118.171368  33.970343 -118.171368  Female  ...  Two year   \n",
              "6840  33.782068, -118.262263  33.782068 -118.262263    Male  ...  Two year   \n",
              "\n",
              "     Paperless Billing             Payment Method  Monthly Charges  \\\n",
              "2234               Yes  Bank transfer (automatic)            52.55   \n",
              "2438                No               Mailed check            20.25   \n",
              "2568                No               Mailed check            80.85   \n",
              "2667                No               Mailed check            25.75   \n",
              "2856                No    Credit card (automatic)            56.05   \n",
              "4331                No               Mailed check            19.85   \n",
              "4687                No               Mailed check            25.35   \n",
              "5104                No               Mailed check            20.00   \n",
              "5719               Yes               Mailed check            19.70   \n",
              "6772                No               Mailed check            73.35   \n",
              "6840               Yes  Bank transfer (automatic)            61.90   \n",
              "\n",
              "     Total Charges Churn Label Churn Value Churn Score    CLTV Churn Reason  \n",
              "2234                        No         0.0        36.0  2578.0          NaN  \n",
              "2438                        No         0.0        68.0  5504.0          NaN  \n",
              "2568                        No         0.0        45.0  2048.0          NaN  \n",
              "2667                        No         0.0        48.0  4950.0          NaN  \n",
              "2856                        No         0.0        30.0  4740.0          NaN  \n",
              "4331                        No         0.0        53.0  2019.0          NaN  \n",
              "4687                        No         0.0        49.0  2299.0          NaN  \n",
              "5104                        No         0.0        27.0  3763.0          NaN  \n",
              "5719                        No         0.0        69.0  4890.0          NaN  \n",
              "6772                        No         0.0        44.0  2342.0          NaN  \n",
              "6840                        No         0.0        65.0  5188.0          NaN  \n",
              "\n",
              "[11 rows x 33 columns]"
            ],
            "text/html": [
              "\n",
              "  <div id=\"df-090b6b7e-5722-443f-987a-614c99ad76ba\">\n",
              "    <div class=\"colab-df-container\">\n",
              "      <div>\n",
              "<style scoped>\n",
              "    .dataframe tbody tr th:only-of-type {\n",
              "        vertical-align: middle;\n",
              "    }\n",
              "\n",
              "    .dataframe tbody tr th {\n",
              "        vertical-align: top;\n",
              "    }\n",
              "\n",
              "    .dataframe thead th {\n",
              "        text-align: right;\n",
              "    }\n",
              "</style>\n",
              "<table border=\"1\" class=\"dataframe\">\n",
              "  <thead>\n",
              "    <tr style=\"text-align: right;\">\n",
              "      <th></th>\n",
              "      <th>CustomerID</th>\n",
              "      <th>Count</th>\n",
              "      <th>Country</th>\n",
              "      <th>State</th>\n",
              "      <th>City</th>\n",
              "      <th>Zip Code</th>\n",
              "      <th>Lat Long</th>\n",
              "      <th>Latitude</th>\n",
              "      <th>Longitude</th>\n",
              "      <th>Gender</th>\n",
              "      <th>...</th>\n",
              "      <th>Contract</th>\n",
              "      <th>Paperless Billing</th>\n",
              "      <th>Payment Method</th>\n",
              "      <th>Monthly Charges</th>\n",
              "      <th>Total Charges</th>\n",
              "      <th>Churn Label</th>\n",
              "      <th>Churn Value</th>\n",
              "      <th>Churn Score</th>\n",
              "      <th>CLTV</th>\n",
              "      <th>Churn Reason</th>\n",
              "    </tr>\n",
              "  </thead>\n",
              "  <tbody>\n",
              "    <tr>\n",
              "      <th>2234</th>\n",
              "      <td>4472-LVYGI</td>\n",
              "      <td>1.0</td>\n",
              "      <td>United States</td>\n",
              "      <td>California</td>\n",
              "      <td>San Bernardino</td>\n",
              "      <td>92408.0</td>\n",
              "      <td>34.084909, -117.258107</td>\n",
              "      <td>34.084909</td>\n",
              "      <td>-117.258107</td>\n",
              "      <td>Female</td>\n",
              "      <td>...</td>\n",
              "      <td>Two year</td>\n",
              "      <td>Yes</td>\n",
              "      <td>Bank transfer (automatic)</td>\n",
              "      <td>52.55</td>\n",
              "      <td></td>\n",
              "      <td>No</td>\n",
              "      <td>0.0</td>\n",
              "      <td>36.0</td>\n",
              "      <td>2578.0</td>\n",
              "      <td>NaN</td>\n",
              "    </tr>\n",
              "    <tr>\n",
              "      <th>2438</th>\n",
              "      <td>3115-CZMZD</td>\n",
              "      <td>1.0</td>\n",
              "      <td>United States</td>\n",
              "      <td>California</td>\n",
              "      <td>Independence</td>\n",
              "      <td>93526.0</td>\n",
              "      <td>36.869584, -118.189241</td>\n",
              "      <td>36.869584</td>\n",
              "      <td>-118.189241</td>\n",
              "      <td>Male</td>\n",
              "      <td>...</td>\n",
              "      <td>Two year</td>\n",
              "      <td>No</td>\n",
              "      <td>Mailed check</td>\n",
              "      <td>20.25</td>\n",
              "      <td></td>\n",
              "      <td>No</td>\n",
              "      <td>0.0</td>\n",
              "      <td>68.0</td>\n",
              "      <td>5504.0</td>\n",
              "      <td>NaN</td>\n",
              "    </tr>\n",
              "    <tr>\n",
              "      <th>2568</th>\n",
              "      <td>5709-LVOEQ</td>\n",
              "      <td>1.0</td>\n",
              "      <td>United States</td>\n",
              "      <td>California</td>\n",
              "      <td>San Mateo</td>\n",
              "      <td>94401.0</td>\n",
              "      <td>37.590421, -122.306467</td>\n",
              "      <td>37.590421</td>\n",
              "      <td>-122.306467</td>\n",
              "      <td>Female</td>\n",
              "      <td>...</td>\n",
              "      <td>Two year</td>\n",
              "      <td>No</td>\n",
              "      <td>Mailed check</td>\n",
              "      <td>80.85</td>\n",
              "      <td></td>\n",
              "      <td>No</td>\n",
              "      <td>0.0</td>\n",
              "      <td>45.0</td>\n",
              "      <td>2048.0</td>\n",
              "      <td>NaN</td>\n",
              "    </tr>\n",
              "    <tr>\n",
              "      <th>2667</th>\n",
              "      <td>4367-NUYAO</td>\n",
              "      <td>1.0</td>\n",
              "      <td>United States</td>\n",
              "      <td>California</td>\n",
              "      <td>Cupertino</td>\n",
              "      <td>95014.0</td>\n",
              "      <td>37.306612, -122.080621</td>\n",
              "      <td>37.306612</td>\n",
              "      <td>-122.080621</td>\n",
              "      <td>Male</td>\n",
              "      <td>...</td>\n",
              "      <td>Two year</td>\n",
              "      <td>No</td>\n",
              "      <td>Mailed check</td>\n",
              "      <td>25.75</td>\n",
              "      <td></td>\n",
              "      <td>No</td>\n",
              "      <td>0.0</td>\n",
              "      <td>48.0</td>\n",
              "      <td>4950.0</td>\n",
              "      <td>NaN</td>\n",
              "    </tr>\n",
              "    <tr>\n",
              "      <th>2856</th>\n",
              "      <td>1371-DWPAZ</td>\n",
              "      <td>1.0</td>\n",
              "      <td>United States</td>\n",
              "      <td>California</td>\n",
              "      <td>Redcrest</td>\n",
              "      <td>95569.0</td>\n",
              "      <td>40.363446, -123.835041</td>\n",
              "      <td>40.363446</td>\n",
              "      <td>-123.835041</td>\n",
              "      <td>Female</td>\n",
              "      <td>...</td>\n",
              "      <td>Two year</td>\n",
              "      <td>No</td>\n",
              "      <td>Credit card (automatic)</td>\n",
              "      <td>56.05</td>\n",
              "      <td></td>\n",
              "      <td>No</td>\n",
              "      <td>0.0</td>\n",
              "      <td>30.0</td>\n",
              "      <td>4740.0</td>\n",
              "      <td>NaN</td>\n",
              "    </tr>\n",
              "    <tr>\n",
              "      <th>4331</th>\n",
              "      <td>7644-OMVMY</td>\n",
              "      <td>1.0</td>\n",
              "      <td>United States</td>\n",
              "      <td>California</td>\n",
              "      <td>Los Angeles</td>\n",
              "      <td>90029.0</td>\n",
              "      <td>34.089953, -118.294824</td>\n",
              "      <td>34.089953</td>\n",
              "      <td>-118.294824</td>\n",
              "      <td>Male</td>\n",
              "      <td>...</td>\n",
              "      <td>Two year</td>\n",
              "      <td>No</td>\n",
              "      <td>Mailed check</td>\n",
              "      <td>19.85</td>\n",
              "      <td></td>\n",
              "      <td>No</td>\n",
              "      <td>0.0</td>\n",
              "      <td>53.0</td>\n",
              "      <td>2019.0</td>\n",
              "      <td>NaN</td>\n",
              "    </tr>\n",
              "    <tr>\n",
              "      <th>4687</th>\n",
              "      <td>3213-VVOLG</td>\n",
              "      <td>1.0</td>\n",
              "      <td>United States</td>\n",
              "      <td>California</td>\n",
              "      <td>Sun City</td>\n",
              "      <td>92585.0</td>\n",
              "      <td>33.739412, -117.173334</td>\n",
              "      <td>33.739412</td>\n",
              "      <td>-117.173334</td>\n",
              "      <td>Male</td>\n",
              "      <td>...</td>\n",
              "      <td>Two year</td>\n",
              "      <td>No</td>\n",
              "      <td>Mailed check</td>\n",
              "      <td>25.35</td>\n",
              "      <td></td>\n",
              "      <td>No</td>\n",
              "      <td>0.0</td>\n",
              "      <td>49.0</td>\n",
              "      <td>2299.0</td>\n",
              "      <td>NaN</td>\n",
              "    </tr>\n",
              "    <tr>\n",
              "      <th>5104</th>\n",
              "      <td>2520-SGTTA</td>\n",
              "      <td>1.0</td>\n",
              "      <td>United States</td>\n",
              "      <td>California</td>\n",
              "      <td>Ben Lomond</td>\n",
              "      <td>95005.0</td>\n",
              "      <td>37.078873, -122.090386</td>\n",
              "      <td>37.078873</td>\n",
              "      <td>-122.090386</td>\n",
              "      <td>Female</td>\n",
              "      <td>...</td>\n",
              "      <td>Two year</td>\n",
              "      <td>No</td>\n",
              "      <td>Mailed check</td>\n",
              "      <td>20.00</td>\n",
              "      <td></td>\n",
              "      <td>No</td>\n",
              "      <td>0.0</td>\n",
              "      <td>27.0</td>\n",
              "      <td>3763.0</td>\n",
              "      <td>NaN</td>\n",
              "    </tr>\n",
              "    <tr>\n",
              "      <th>5719</th>\n",
              "      <td>2923-ARZLG</td>\n",
              "      <td>1.0</td>\n",
              "      <td>United States</td>\n",
              "      <td>California</td>\n",
              "      <td>La Verne</td>\n",
              "      <td>91750.0</td>\n",
              "      <td>34.144703, -117.770299</td>\n",
              "      <td>34.144703</td>\n",
              "      <td>-117.770299</td>\n",
              "      <td>Male</td>\n",
              "      <td>...</td>\n",
              "      <td>One year</td>\n",
              "      <td>Yes</td>\n",
              "      <td>Mailed check</td>\n",
              "      <td>19.70</td>\n",
              "      <td></td>\n",
              "      <td>No</td>\n",
              "      <td>0.0</td>\n",
              "      <td>69.0</td>\n",
              "      <td>4890.0</td>\n",
              "      <td>NaN</td>\n",
              "    </tr>\n",
              "    <tr>\n",
              "      <th>6772</th>\n",
              "      <td>4075-WKNIU</td>\n",
              "      <td>1.0</td>\n",
              "      <td>United States</td>\n",
              "      <td>California</td>\n",
              "      <td>Bell</td>\n",
              "      <td>90201.0</td>\n",
              "      <td>33.970343, -118.171368</td>\n",
              "      <td>33.970343</td>\n",
              "      <td>-118.171368</td>\n",
              "      <td>Female</td>\n",
              "      <td>...</td>\n",
              "      <td>Two year</td>\n",
              "      <td>No</td>\n",
              "      <td>Mailed check</td>\n",
              "      <td>73.35</td>\n",
              "      <td></td>\n",
              "      <td>No</td>\n",
              "      <td>0.0</td>\n",
              "      <td>44.0</td>\n",
              "      <td>2342.0</td>\n",
              "      <td>NaN</td>\n",
              "    </tr>\n",
              "    <tr>\n",
              "      <th>6840</th>\n",
              "      <td>2775-SEFEE</td>\n",
              "      <td>1.0</td>\n",
              "      <td>United States</td>\n",
              "      <td>California</td>\n",
              "      <td>Wilmington</td>\n",
              "      <td>90744.0</td>\n",
              "      <td>33.782068, -118.262263</td>\n",
              "      <td>33.782068</td>\n",
              "      <td>-118.262263</td>\n",
              "      <td>Male</td>\n",
              "      <td>...</td>\n",
              "      <td>Two year</td>\n",
              "      <td>Yes</td>\n",
              "      <td>Bank transfer (automatic)</td>\n",
              "      <td>61.90</td>\n",
              "      <td></td>\n",
              "      <td>No</td>\n",
              "      <td>0.0</td>\n",
              "      <td>65.0</td>\n",
              "      <td>5188.0</td>\n",
              "      <td>NaN</td>\n",
              "    </tr>\n",
              "  </tbody>\n",
              "</table>\n",
              "<p>11 rows × 33 columns</p>\n",
              "</div>\n",
              "      <button class=\"colab-df-convert\" onclick=\"convertToInteractive('df-090b6b7e-5722-443f-987a-614c99ad76ba')\"\n",
              "              title=\"Convert this dataframe to an interactive table.\"\n",
              "              style=\"display:none;\">\n",
              "        \n",
              "  <svg xmlns=\"http://www.w3.org/2000/svg\" height=\"24px\"viewBox=\"0 0 24 24\"\n",
              "       width=\"24px\">\n",
              "    <path d=\"M0 0h24v24H0V0z\" fill=\"none\"/>\n",
              "    <path d=\"M18.56 5.44l.94 2.06.94-2.06 2.06-.94-2.06-.94-.94-2.06-.94 2.06-2.06.94zm-11 1L8.5 8.5l.94-2.06 2.06-.94-2.06-.94L8.5 2.5l-.94 2.06-2.06.94zm10 10l.94 2.06.94-2.06 2.06-.94-2.06-.94-.94-2.06-.94 2.06-2.06.94z\"/><path d=\"M17.41 7.96l-1.37-1.37c-.4-.4-.92-.59-1.43-.59-.52 0-1.04.2-1.43.59L10.3 9.45l-7.72 7.72c-.78.78-.78 2.05 0 2.83L4 21.41c.39.39.9.59 1.41.59.51 0 1.02-.2 1.41-.59l7.78-7.78 2.81-2.81c.8-.78.8-2.07 0-2.86zM5.41 20L4 18.59l7.72-7.72 1.47 1.35L5.41 20z\"/>\n",
              "  </svg>\n",
              "      </button>\n",
              "      \n",
              "  <style>\n",
              "    .colab-df-container {\n",
              "      display:flex;\n",
              "      flex-wrap:wrap;\n",
              "      gap: 12px;\n",
              "    }\n",
              "\n",
              "    .colab-df-convert {\n",
              "      background-color: #E8F0FE;\n",
              "      border: none;\n",
              "      border-radius: 50%;\n",
              "      cursor: pointer;\n",
              "      display: none;\n",
              "      fill: #1967D2;\n",
              "      height: 32px;\n",
              "      padding: 0 0 0 0;\n",
              "      width: 32px;\n",
              "    }\n",
              "\n",
              "    .colab-df-convert:hover {\n",
              "      background-color: #E2EBFA;\n",
              "      box-shadow: 0px 1px 2px rgba(60, 64, 67, 0.3), 0px 1px 3px 1px rgba(60, 64, 67, 0.15);\n",
              "      fill: #174EA6;\n",
              "    }\n",
              "\n",
              "    [theme=dark] .colab-df-convert {\n",
              "      background-color: #3B4455;\n",
              "      fill: #D2E3FC;\n",
              "    }\n",
              "\n",
              "    [theme=dark] .colab-df-convert:hover {\n",
              "      background-color: #434B5C;\n",
              "      box-shadow: 0px 1px 3px 1px rgba(0, 0, 0, 0.15);\n",
              "      filter: drop-shadow(0px 1px 2px rgba(0, 0, 0, 0.3));\n",
              "      fill: #FFFFFF;\n",
              "    }\n",
              "  </style>\n",
              "\n",
              "      <script>\n",
              "        const buttonEl =\n",
              "          document.querySelector('#df-090b6b7e-5722-443f-987a-614c99ad76ba button.colab-df-convert');\n",
              "        buttonEl.style.display =\n",
              "          google.colab.kernel.accessAllowed ? 'block' : 'none';\n",
              "\n",
              "        async function convertToInteractive(key) {\n",
              "          const element = document.querySelector('#df-090b6b7e-5722-443f-987a-614c99ad76ba');\n",
              "          const dataTable =\n",
              "            await google.colab.kernel.invokeFunction('convertToInteractive',\n",
              "                                                     [key], {});\n",
              "          if (!dataTable) return;\n",
              "\n",
              "          const docLinkHtml = 'Like what you see? Visit the ' +\n",
              "            '<a target=\"_blank\" href=https://colab.research.google.com/notebooks/data_table.ipynb>data table notebook</a>'\n",
              "            + ' to learn more about interactive tables.';\n",
              "          element.innerHTML = '';\n",
              "          dataTable['output_type'] = 'display_data';\n",
              "          await google.colab.output.renderOutput(dataTable, element);\n",
              "          const docLink = document.createElement('div');\n",
              "          docLink.innerHTML = docLinkHtml;\n",
              "          element.appendChild(docLink);\n",
              "        }\n",
              "      </script>\n",
              "    </div>\n",
              "  </div>\n",
              "  "
            ]
          },
          "metadata": {},
          "execution_count": 27
        }
      ]
    },
    {
      "cell_type": "markdown",
      "source": [
        "There are white spaces in Total Charges column."
      ],
      "metadata": {
        "id": "a1EC0hpYP1P2"
      }
    },
    {
      "cell_type": "code",
      "source": [
        "telco[pd.to_numeric(telco[\"Total Charges\"],errors = \"coerce\").isnull()].shape"
      ],
      "metadata": {
        "colab": {
          "base_uri": "https://localhost:8080/"
        },
        "id": "HFS8feNFzhBg",
        "outputId": "7653b7be-48e4-453c-db2f-929344f05008"
      },
      "execution_count": null,
      "outputs": [
        {
          "output_type": "execute_result",
          "data": {
            "text/plain": [
              "(11, 33)"
            ]
          },
          "metadata": {},
          "execution_count": 28
        }
      ]
    },
    {
      "cell_type": "markdown",
      "source": [
        "checking the how many white spaces are there in total charges column"
      ],
      "metadata": {
        "id": "MnJB5nv66UP1"
      }
    },
    {
      "cell_type": "code",
      "source": [
        "telco.iloc[2234]"
      ],
      "metadata": {
        "colab": {
          "base_uri": "https://localhost:8080/"
        },
        "id": "ShoBO5CU0aBY",
        "outputId": "8ddd00f2-0557-431a-b40f-62c54b26d4e5"
      },
      "execution_count": null,
      "outputs": [
        {
          "output_type": "execute_result",
          "data": {
            "text/plain": [
              "CustomerID                          4472-LVYGI\n",
              "Count                                      1.0\n",
              "Country                          United States\n",
              "State                               California\n",
              "City                            San Bernardino\n",
              "Zip Code                               92408.0\n",
              "Lat Long                34.084909, -117.258107\n",
              "Latitude                             34.084909\n",
              "Longitude                          -117.258107\n",
              "Gender                                  Female\n",
              "Senior Citizen                              No\n",
              "Partner                                    Yes\n",
              "Dependents                                  No\n",
              "Tenure Months                              0.0\n",
              "Phone Service                               No\n",
              "Multiple Lines                No phone service\n",
              "Internet Service                           DSL\n",
              "Online Security                            Yes\n",
              "Online Backup                               No\n",
              "Device Protection                          Yes\n",
              "Tech Support                               Yes\n",
              "Streaming TV                               Yes\n",
              "Streaming Movies                            No\n",
              "Contract                              Two year\n",
              "Paperless Billing                          Yes\n",
              "Payment Method       Bank transfer (automatic)\n",
              "Monthly Charges                          52.55\n",
              "Total Charges                                 \n",
              "Churn Label                                 No\n",
              "Churn Value                                0.0\n",
              "Churn Score                               36.0\n",
              "CLTV                                    2578.0\n",
              "Churn Reason                               NaN\n",
              "Name: 2234, dtype: object"
            ]
          },
          "metadata": {},
          "execution_count": 30
        }
      ]
    },
    {
      "cell_type": "code",
      "source": [
        "telco_1 = telco[telco[\"Total Charges\"] != \" \"]\n",
        "telco_1\n",
        "telco_1.shape"
      ],
      "metadata": {
        "colab": {
          "base_uri": "https://localhost:8080/"
        },
        "id": "XqvpUSxu0sVE",
        "outputId": "96dab5c4-079c-4047-81e1-4c9baa647321"
      },
      "execution_count": 5,
      "outputs": [
        {
          "output_type": "execute_result",
          "data": {
            "text/plain": [
              "(7032, 33)"
            ]
          },
          "metadata": {},
          "execution_count": 5
        }
      ]
    },
    {
      "cell_type": "markdown",
      "source": [
        "Dropping the White spaces in the Total Charges column."
      ],
      "metadata": {
        "id": "PkTdoM8zQLaH"
      }
    },
    {
      "cell_type": "code",
      "source": [
        "# After dropping the blank columns, now coverting the Dtype of Total Charges to \"Float\"\n",
        "telco_1[\"Total Charges\"]=pd.to_numeric(telco_1[\"Total Charges\"])\n",
        "#telco_1                       \n",
        "telco_1[\"Total Charges\"].dtypes     \n",
        "#telco_1.info()                "
      ],
      "metadata": {
        "colab": {
          "base_uri": "https://localhost:8080/"
        },
        "id": "0oH1q6zu1pVu",
        "outputId": "26de7fa7-cf28-4b01-e833-aa087d737e82"
      },
      "execution_count": 6,
      "outputs": [
        {
          "output_type": "stream",
          "name": "stderr",
          "text": [
            "/usr/local/lib/python3.7/dist-packages/ipykernel_launcher.py:2: SettingWithCopyWarning: \n",
            "A value is trying to be set on a copy of a slice from a DataFrame.\n",
            "Try using .loc[row_indexer,col_indexer] = value instead\n",
            "\n",
            "See the caveats in the documentation: https://pandas.pydata.org/pandas-docs/stable/user_guide/indexing.html#returning-a-view-versus-a-copy\n",
            "  \n"
          ]
        },
        {
          "output_type": "execute_result",
          "data": {
            "text/plain": [
              "dtype('float64')"
            ]
          },
          "metadata": {},
          "execution_count": 6
        }
      ]
    },
    {
      "cell_type": "code",
      "source": [
        "#Q2: Please apply appropriate statistical measures using python based on data types.\n",
        "\n",
        "telco_1.describe()"
      ],
      "metadata": {
        "colab": {
          "base_uri": "https://localhost:8080/",
          "height": 300
        },
        "id": "2pjd_-_pp4Bq",
        "outputId": "1e43b104-76d3-4f6d-fbc0-b31bd0ff0df6"
      },
      "execution_count": 7,
      "outputs": [
        {
          "output_type": "execute_result",
          "data": {
            "text/plain": [
              "        Count      Zip Code     Latitude    Longitude  Tenure Months  \\\n",
              "count  7032.0   7032.000000  7032.000000  7032.000000    7032.000000   \n",
              "mean      1.0  93523.032565    36.283307  -119.799215      32.421786   \n",
              "std       0.0   1865.515958     2.456118     2.157588      24.545260   \n",
              "min       1.0  90001.000000    32.555828  -124.301372       1.000000   \n",
              "25%       1.0  92102.000000    34.030915  -121.815412       9.000000   \n",
              "50%       1.0  93552.500000    36.391777  -119.735410      29.000000   \n",
              "75%       1.0  95354.000000    38.227285  -118.043237      55.000000   \n",
              "max       1.0  96161.000000    41.962127  -114.192901      72.000000   \n",
              "\n",
              "       Monthly Charges  Total Charges  Churn Value  Churn Score         CLTV  \n",
              "count      7032.000000    7032.000000  7032.000000  7032.000000  7032.000000  \n",
              "mean         64.798208    2283.300441     0.265785    58.715301  4401.445108  \n",
              "std          30.085974    2266.771362     0.441782    21.531321  1182.414266  \n",
              "min          18.250000      18.800000     0.000000     5.000000  2003.000000  \n",
              "25%          35.587500     401.450000     0.000000    40.000000  3469.750000  \n",
              "50%          70.350000    1397.475000     0.000000    61.000000  4527.500000  \n",
              "75%          89.862500    3794.737500     1.000000    75.000000  5381.000000  \n",
              "max         118.750000    8684.800000     1.000000   100.000000  6500.000000  "
            ],
            "text/html": [
              "\n",
              "  <div id=\"df-e30a3aff-c134-4879-898b-ea0b5b9e59d8\">\n",
              "    <div class=\"colab-df-container\">\n",
              "      <div>\n",
              "<style scoped>\n",
              "    .dataframe tbody tr th:only-of-type {\n",
              "        vertical-align: middle;\n",
              "    }\n",
              "\n",
              "    .dataframe tbody tr th {\n",
              "        vertical-align: top;\n",
              "    }\n",
              "\n",
              "    .dataframe thead th {\n",
              "        text-align: right;\n",
              "    }\n",
              "</style>\n",
              "<table border=\"1\" class=\"dataframe\">\n",
              "  <thead>\n",
              "    <tr style=\"text-align: right;\">\n",
              "      <th></th>\n",
              "      <th>Count</th>\n",
              "      <th>Zip Code</th>\n",
              "      <th>Latitude</th>\n",
              "      <th>Longitude</th>\n",
              "      <th>Tenure Months</th>\n",
              "      <th>Monthly Charges</th>\n",
              "      <th>Total Charges</th>\n",
              "      <th>Churn Value</th>\n",
              "      <th>Churn Score</th>\n",
              "      <th>CLTV</th>\n",
              "    </tr>\n",
              "  </thead>\n",
              "  <tbody>\n",
              "    <tr>\n",
              "      <th>count</th>\n",
              "      <td>7032.0</td>\n",
              "      <td>7032.000000</td>\n",
              "      <td>7032.000000</td>\n",
              "      <td>7032.000000</td>\n",
              "      <td>7032.000000</td>\n",
              "      <td>7032.000000</td>\n",
              "      <td>7032.000000</td>\n",
              "      <td>7032.000000</td>\n",
              "      <td>7032.000000</td>\n",
              "      <td>7032.000000</td>\n",
              "    </tr>\n",
              "    <tr>\n",
              "      <th>mean</th>\n",
              "      <td>1.0</td>\n",
              "      <td>93523.032565</td>\n",
              "      <td>36.283307</td>\n",
              "      <td>-119.799215</td>\n",
              "      <td>32.421786</td>\n",
              "      <td>64.798208</td>\n",
              "      <td>2283.300441</td>\n",
              "      <td>0.265785</td>\n",
              "      <td>58.715301</td>\n",
              "      <td>4401.445108</td>\n",
              "    </tr>\n",
              "    <tr>\n",
              "      <th>std</th>\n",
              "      <td>0.0</td>\n",
              "      <td>1865.515958</td>\n",
              "      <td>2.456118</td>\n",
              "      <td>2.157588</td>\n",
              "      <td>24.545260</td>\n",
              "      <td>30.085974</td>\n",
              "      <td>2266.771362</td>\n",
              "      <td>0.441782</td>\n",
              "      <td>21.531321</td>\n",
              "      <td>1182.414266</td>\n",
              "    </tr>\n",
              "    <tr>\n",
              "      <th>min</th>\n",
              "      <td>1.0</td>\n",
              "      <td>90001.000000</td>\n",
              "      <td>32.555828</td>\n",
              "      <td>-124.301372</td>\n",
              "      <td>1.000000</td>\n",
              "      <td>18.250000</td>\n",
              "      <td>18.800000</td>\n",
              "      <td>0.000000</td>\n",
              "      <td>5.000000</td>\n",
              "      <td>2003.000000</td>\n",
              "    </tr>\n",
              "    <tr>\n",
              "      <th>25%</th>\n",
              "      <td>1.0</td>\n",
              "      <td>92102.000000</td>\n",
              "      <td>34.030915</td>\n",
              "      <td>-121.815412</td>\n",
              "      <td>9.000000</td>\n",
              "      <td>35.587500</td>\n",
              "      <td>401.450000</td>\n",
              "      <td>0.000000</td>\n",
              "      <td>40.000000</td>\n",
              "      <td>3469.750000</td>\n",
              "    </tr>\n",
              "    <tr>\n",
              "      <th>50%</th>\n",
              "      <td>1.0</td>\n",
              "      <td>93552.500000</td>\n",
              "      <td>36.391777</td>\n",
              "      <td>-119.735410</td>\n",
              "      <td>29.000000</td>\n",
              "      <td>70.350000</td>\n",
              "      <td>1397.475000</td>\n",
              "      <td>0.000000</td>\n",
              "      <td>61.000000</td>\n",
              "      <td>4527.500000</td>\n",
              "    </tr>\n",
              "    <tr>\n",
              "      <th>75%</th>\n",
              "      <td>1.0</td>\n",
              "      <td>95354.000000</td>\n",
              "      <td>38.227285</td>\n",
              "      <td>-118.043237</td>\n",
              "      <td>55.000000</td>\n",
              "      <td>89.862500</td>\n",
              "      <td>3794.737500</td>\n",
              "      <td>1.000000</td>\n",
              "      <td>75.000000</td>\n",
              "      <td>5381.000000</td>\n",
              "    </tr>\n",
              "    <tr>\n",
              "      <th>max</th>\n",
              "      <td>1.0</td>\n",
              "      <td>96161.000000</td>\n",
              "      <td>41.962127</td>\n",
              "      <td>-114.192901</td>\n",
              "      <td>72.000000</td>\n",
              "      <td>118.750000</td>\n",
              "      <td>8684.800000</td>\n",
              "      <td>1.000000</td>\n",
              "      <td>100.000000</td>\n",
              "      <td>6500.000000</td>\n",
              "    </tr>\n",
              "  </tbody>\n",
              "</table>\n",
              "</div>\n",
              "      <button class=\"colab-df-convert\" onclick=\"convertToInteractive('df-e30a3aff-c134-4879-898b-ea0b5b9e59d8')\"\n",
              "              title=\"Convert this dataframe to an interactive table.\"\n",
              "              style=\"display:none;\">\n",
              "        \n",
              "  <svg xmlns=\"http://www.w3.org/2000/svg\" height=\"24px\"viewBox=\"0 0 24 24\"\n",
              "       width=\"24px\">\n",
              "    <path d=\"M0 0h24v24H0V0z\" fill=\"none\"/>\n",
              "    <path d=\"M18.56 5.44l.94 2.06.94-2.06 2.06-.94-2.06-.94-.94-2.06-.94 2.06-2.06.94zm-11 1L8.5 8.5l.94-2.06 2.06-.94-2.06-.94L8.5 2.5l-.94 2.06-2.06.94zm10 10l.94 2.06.94-2.06 2.06-.94-2.06-.94-.94-2.06-.94 2.06-2.06.94z\"/><path d=\"M17.41 7.96l-1.37-1.37c-.4-.4-.92-.59-1.43-.59-.52 0-1.04.2-1.43.59L10.3 9.45l-7.72 7.72c-.78.78-.78 2.05 0 2.83L4 21.41c.39.39.9.59 1.41.59.51 0 1.02-.2 1.41-.59l7.78-7.78 2.81-2.81c.8-.78.8-2.07 0-2.86zM5.41 20L4 18.59l7.72-7.72 1.47 1.35L5.41 20z\"/>\n",
              "  </svg>\n",
              "      </button>\n",
              "      \n",
              "  <style>\n",
              "    .colab-df-container {\n",
              "      display:flex;\n",
              "      flex-wrap:wrap;\n",
              "      gap: 12px;\n",
              "    }\n",
              "\n",
              "    .colab-df-convert {\n",
              "      background-color: #E8F0FE;\n",
              "      border: none;\n",
              "      border-radius: 50%;\n",
              "      cursor: pointer;\n",
              "      display: none;\n",
              "      fill: #1967D2;\n",
              "      height: 32px;\n",
              "      padding: 0 0 0 0;\n",
              "      width: 32px;\n",
              "    }\n",
              "\n",
              "    .colab-df-convert:hover {\n",
              "      background-color: #E2EBFA;\n",
              "      box-shadow: 0px 1px 2px rgba(60, 64, 67, 0.3), 0px 1px 3px 1px rgba(60, 64, 67, 0.15);\n",
              "      fill: #174EA6;\n",
              "    }\n",
              "\n",
              "    [theme=dark] .colab-df-convert {\n",
              "      background-color: #3B4455;\n",
              "      fill: #D2E3FC;\n",
              "    }\n",
              "\n",
              "    [theme=dark] .colab-df-convert:hover {\n",
              "      background-color: #434B5C;\n",
              "      box-shadow: 0px 1px 3px 1px rgba(0, 0, 0, 0.15);\n",
              "      filter: drop-shadow(0px 1px 2px rgba(0, 0, 0, 0.3));\n",
              "      fill: #FFFFFF;\n",
              "    }\n",
              "  </style>\n",
              "\n",
              "      <script>\n",
              "        const buttonEl =\n",
              "          document.querySelector('#df-e30a3aff-c134-4879-898b-ea0b5b9e59d8 button.colab-df-convert');\n",
              "        buttonEl.style.display =\n",
              "          google.colab.kernel.accessAllowed ? 'block' : 'none';\n",
              "\n",
              "        async function convertToInteractive(key) {\n",
              "          const element = document.querySelector('#df-e30a3aff-c134-4879-898b-ea0b5b9e59d8');\n",
              "          const dataTable =\n",
              "            await google.colab.kernel.invokeFunction('convertToInteractive',\n",
              "                                                     [key], {});\n",
              "          if (!dataTable) return;\n",
              "\n",
              "          const docLinkHtml = 'Like what you see? Visit the ' +\n",
              "            '<a target=\"_blank\" href=https://colab.research.google.com/notebooks/data_table.ipynb>data table notebook</a>'\n",
              "            + ' to learn more about interactive tables.';\n",
              "          element.innerHTML = '';\n",
              "          dataTable['output_type'] = 'display_data';\n",
              "          await google.colab.output.renderOutput(dataTable, element);\n",
              "          const docLink = document.createElement('div');\n",
              "          docLink.innerHTML = docLinkHtml;\n",
              "          element.appendChild(docLink);\n",
              "        }\n",
              "      </script>\n",
              "    </div>\n",
              "  </div>\n",
              "  "
            ]
          },
          "metadata": {},
          "execution_count": 7
        }
      ]
    },
    {
      "cell_type": "markdown",
      "source": [
        "minimum\n",
        "\n",
        "* Minimum monthly charges are paid by the both the genders are 18.25 based on city and available facilities\n",
        "* Minimum Total charges are paid by the both the genders are 18.8 based on city and available facilities\n",
        "\n",
        "# Maximum\n",
        "* Maximum monthly charges are paid by the both the genders are 118.75 based on city and avaliable facilities\n",
        "* Maximum Total charges are paid by the both the genders are 8684.8 based on city and available facilities\n",
        "\n",
        "# Mean\n",
        "* Peoples pay monthly charges, Average of 64.798208 \n",
        "* Whereas total charges paid by them, Average of 2283.300441"
      ],
      "metadata": {
        "id": "vD83EgiH8KhA"
      }
    },
    {
      "cell_type": "code",
      "source": [
        "#Q3: What is the percentage of females and senior citizens in this data set? Please create appropriate plots and explain the plots.\n",
        "\n",
        "sns.boxplot( x= \"Gender\" , y= \"Total Charges\" , data = telco_1) #using boxplot \n",
        "plt.title(\"Gender Total Charges\")\n",
        "plt.xlabel(\"Gender\")\n",
        "plt.ylabel(\"Total Charges\") # naming the y-axis\n",
        "plt.show() # print output\n"
      ],
      "metadata": {
        "colab": {
          "base_uri": "https://localhost:8080/",
          "height": 295
        },
        "id": "gxuearsbkikV",
        "outputId": "d4005b03-6e87-4de6-d661-bd2c4fdb1058"
      },
      "execution_count": 8,
      "outputs": [
        {
          "output_type": "display_data",
          "data": {
            "text/plain": [
              "<Figure size 432x288 with 1 Axes>"
            ],
            "image/png": "[encoded data removed]"
          },
          "metadata": {
            "needs_background": "light"
          }
        }
      ]
    },
    {
      "cell_type": "markdown",
      "source": [
        "Both the genders pays total charges equally."
      ],
      "metadata": {
        "id": "iQfDjmd_88w8"
      }
    },
    {
      "cell_type": "code",
      "source": [
        "sns.boxplot( x= \"Senior Citizen\" , y = \"Total Charges\" , data = telco_1)\n",
        "plt.title(\" Senior Citizen Total Charges\")\n",
        "plt.xlabel(\"Senior Citizen\") # naming the x-axis\n",
        "plt.ylabel(\"Total Charges\")\n",
        "plt.show() #print output"
      ],
      "metadata": {
        "colab": {
          "base_uri": "https://localhost:8080/",
          "height": 295
        },
        "id": "fWzzs7tdS0CO",
        "outputId": "0d906ad5-5f40-4f08-ff30-91fe1faf9f9b"
      },
      "execution_count": 9,
      "outputs": [
        {
          "output_type": "display_data",
          "data": {
            "text/plain": [
              "<Figure size 432x288 with 1 Axes>"
            ],
            "image/png": "[encoded data removed]"
          },
          "metadata": {
            "needs_background": "light"
          }
        }
      ]
    },
    {
      "cell_type": "markdown",
      "source": [
        "Those who are not senior citizens pays less total charges, and Those who are senoir citizens pays high total charges"
      ],
      "metadata": {
        "id": "3ZlZQS9ERisL"
      }
    },
    {
      "cell_type": "code",
      "source": [
        "#Q4:  Please create an appropriate plot to examine the distribution of the tenure month column and explain the distribution. \n",
        "#Based on distribution, perform appropriate statistical measures.\n",
        "# Please also explain if the variable is symmetric or skewed. Please calculate it. Explain everything as asked.\n",
        "\n",
        "sns.histplot(x=\"Tenure Months\" , data = telco_1)\n",
        "plt.xlabel(\"Tenure months\")\n",
        "plt.ylabel(\"count\")\n",
        "plt.show() #printoutput\n",
        "#sns.distplot(telco_1[\"Tenure Months\"])"
      ],
      "metadata": {
        "colab": {
          "base_uri": "https://localhost:8080/",
          "height": 279
        },
        "id": "vH6_VMOmp5Jj",
        "outputId": "405e8a1a-bd32-4c2c-d38d-7dee996badf2"
      },
      "execution_count": 12,
      "outputs": [
        {
          "output_type": "display_data",
          "data": {
            "text/plain": [
              "<Figure size 432x288 with 1 Axes>"
            ],
            "image/png": "[encoded data removed]"
          },
          "metadata": {
            "needs_background": "light"
          }
        }
      ]
    },
    {
      "cell_type": "code",
      "source": [
        "#Q5: Please convert all binary columns into 0 and 1 using appropriate programming constructs, not one by one.\n",
        "\n",
        "\n",
        "for column in telco:\n",
        "  print(telco[column].unique())\n"
      ],
      "metadata": {
        "colab": {
          "base_uri": "https://localhost:8080/"
        },
        "id": "0xBvM0py8iT8",
        "outputId": "7bcfeba0-9067-457c-80e5-061e8cc2c1bf"
      },
      "execution_count": null,
      "outputs": [
        {
          "output_type": "stream",
          "name": "stdout",
          "text": [
            "['3668-QPYBK' '9237-HQITU' '9305-CDSKC' ... '2234-XADUH' '4801-JZAZL'\n",
            " '3186-AJIEK']\n",
            "[1.]\n",
            "['United States']\n",
            "['California']\n",
            "['Los Angeles' 'Beverly Hills' 'Huntington Park' ... 'Standish' 'Tulelake'\n",
            " 'Olympic Valley']\n",
            "[90003. 90005. 90006. ... 96128. 96134. 96146.]\n",
            "['33.964131, -118.272783' '34.059281, -118.30742' '34.048013, -118.293953'\n",
            " ... '40.346634, -120.386422' '41.813521, -121.492666'\n",
            " '39.191797, -120.212401']\n",
            "[33.964131 34.059281 34.048013 ... 40.346634 41.813521 39.191797]\n",
            "[-118.272783 -118.30742  -118.293953 ... -120.386422 -121.492666\n",
            " -120.212401]\n",
            "['Male' 'Female']\n",
            "['No' 'Yes']\n",
            "['No' 'Yes']\n",
            "['No' 'Yes']\n",
            "[ 2.  8. 28. 49. 10.  1. 47. 17.  5. 34. 11. 15. 18.  9.  7. 12. 25. 68.\n",
            " 55. 37.  3. 27. 20.  4. 58. 53. 13.  6. 19. 59. 16. 52. 24. 32. 38. 54.\n",
            " 43. 63. 21. 69. 22. 61. 60. 48. 40. 23. 39. 35. 56. 65. 33. 30. 45. 46.\n",
            " 62. 70. 50. 44. 71. 26. 14. 41. 66. 64. 29. 42. 67. 51. 31. 57. 36. 72.\n",
            "  0.]\n",
            "['Yes' 'No']\n",
            "['No' 'Yes' 'No phone service']\n",
            "['DSL' 'Fiber optic' 'No']\n",
            "['Yes' 'No' 'No internet service']\n",
            "['Yes' 'No' 'No internet service']\n",
            "['No' 'Yes' 'No internet service']\n",
            "['No' 'Yes' 'No internet service']\n",
            "['No' 'Yes' 'No internet service']\n",
            "['No' 'Yes' 'No internet service']\n",
            "['Month-to-month' 'Two year' 'One year']\n",
            "['Yes' 'No']\n",
            "['Mailed check' 'Electronic check' 'Bank transfer (automatic)'\n",
            " 'Credit card (automatic)']\n",
            "[ 53.85  70.7   99.65 ... 108.35  63.1   78.7 ]\n",
            "[108.15 151.65 820.5 ... 7362.9 346.45 6844.5]\n",
            "['Yes' 'No']\n",
            "[1. 0.]\n",
            "[ 86.  67.  84.  89.  78. 100.  92.  77.  97.  74.  66.  65.  70.  90.\n",
            "  82.  69.  81.  96.  87.  88.  75.  76.  95.  99.  80.  73.  94.  83.\n",
            "  98.  71.  85.  68.  91.  93.  72.  79.  27.  61.  43.  51.  58.  39.\n",
            "  35.  57.  53.  21.  38.  40.  41.  22.  25.  64.  49.  62.  52.  59.\n",
            "  29.  33.  20.  30.  26.  54.  56.  55.  28.  37.   9.  60.  24.  63.\n",
            "  23.  47.  32.   8.  46.  42.  48.  36.  34.   7.  50.  44.  31.   5.\n",
            "  45.]\n",
            "[3239. 2701. 5372. ... 2770. 4645. 5553.]\n",
            "['Competitor made better offer' 'Moved' 'Competitor had better devices'\n",
            " 'Competitor offered higher download speeds'\n",
            " 'Competitor offered more data' 'Price too high' 'Product dissatisfaction'\n",
            " 'Service dissatisfaction' 'Lack of self-service on Website'\n",
            " 'Network reliability' 'Limited range of services'\n",
            " 'Lack of affordable download/upload speed' 'Long distance charges'\n",
            " 'Extra data charges' \"Don't know\" 'Poor expertise of online support'\n",
            " 'Poor expertise of phone support' 'Attitude of service provider'\n",
            " 'Attitude of support person' 'Deceased' nan]\n"
          ]
        }
      ]
    },
    {
      "cell_type": "markdown",
      "source": [
        "checking the unique values in each column."
      ],
      "metadata": {
        "id": "lHbEM7RF9ybv"
      }
    },
    {
      "cell_type": "code",
      "source": [
        "#telco_1[column].dtypes == \"object\"\n",
        "telco_1.replace('No internet service','No',inplace=True)\n",
        "telco_1.replace('No phone service','No',inplace=True)"
      ],
      "metadata": {
        "colab": {
          "base_uri": "https://localhost:8080/"
        },
        "id": "82JrTtl5DQtl",
        "outputId": "3ec9b12c-8b43-4898-c7c0-f85d4447786c"
      },
      "execution_count": null,
      "outputs": [
        {
          "output_type": "stream",
          "name": "stderr",
          "text": [
            "/usr/local/lib/python3.7/dist-packages/pandas/core/frame.py:5244: SettingWithCopyWarning: \n",
            "A value is trying to be set on a copy of a slice from a DataFrame\n",
            "\n",
            "See the caveats in the documentation: https://pandas.pydata.org/pandas-docs/stable/user_guide/indexing.html#returning-a-view-versus-a-copy\n",
            "  method=method,\n"
          ]
        }
      ]
    },
    {
      "cell_type": "markdown",
      "source": [
        "replacing \"No internet service\" with \"No\"\n",
        "And \"No phone service\" with \"No\""
      ],
      "metadata": {
        "id": "lkS0wHQI99pY"
      }
    },
    {
      "cell_type": "code",
      "source": [
        "telco_1[\"Internet Service\"].unique()\n",
        "telco_1[\"Phone Service\"].unique()"
      ],
      "metadata": {
        "colab": {
          "base_uri": "https://localhost:8080/"
        },
        "id": "-bDBsJHSFEEo",
        "outputId": "c9676021-bea5-4a70-975c-211663f4d01d"
      },
      "execution_count": null,
      "outputs": [
        {
          "output_type": "execute_result",
          "data": {
            "text/plain": [
              "array(['Yes', 'No'], dtype=object)"
            ]
          },
          "metadata": {},
          "execution_count": 9
        }
      ]
    },
    {
      "cell_type": "markdown",
      "source": [
        "here we can see that it got replaced when we use the above code."
      ],
      "metadata": {
        "id": "tNuS0UBz-C3n"
      }
    },
    {
      "cell_type": "code",
      "source": [
        "#Q5: Please convert all binary columns into 0 and 1 using appropriate programming constructs, not one by one.\n",
        "\n",
        "telco_1.columns"
      ],
      "metadata": {
        "colab": {
          "base_uri": "https://localhost:8080/"
        },
        "id": "dWlBpAtiE5i5",
        "outputId": "6226799a-9509-4347-a264-24cf22981c69"
      },
      "execution_count": 13,
      "outputs": [
        {
          "output_type": "execute_result",
          "data": {
            "text/plain": [
              "Index(['CustomerID', 'Count', 'Country', 'State', 'City', 'Zip Code',\n",
              "       'Lat Long', 'Latitude', 'Longitude', 'Gender', 'Senior Citizen',\n",
              "       'Partner', 'Dependents', 'Tenure Months', 'Phone Service',\n",
              "       'Multiple Lines', 'Internet Service', 'Online Security',\n",
              "       'Online Backup', 'Device Protection', 'Tech Support', 'Streaming TV',\n",
              "       'Streaming Movies', 'Contract', 'Paperless Billing', 'Payment Method',\n",
              "       'Monthly Charges', 'Total Charges', 'Churn Label', 'Churn Value',\n",
              "       'Churn Score', 'CLTV', 'Churn Reason'],\n",
              "      dtype='object')"
            ]
          },
          "metadata": {},
          "execution_count": 13
        }
      ]
    },
    {
      "cell_type": "markdown",
      "source": [
        "checking the all columns."
      ],
      "metadata": {
        "id": "361No30_7eY8"
      }
    },
    {
      "cell_type": "code",
      "source": [
        "telco_1[\"Gender\"].replace({\"Female\" : 1, \"Male\" : 0},inplace=True)\n",
        "telco_1[\"Gender\"].unique()"
      ],
      "metadata": {
        "colab": {
          "base_uri": "https://localhost:8080/"
        },
        "id": "kzObheyjLOOg",
        "outputId": "153084d5-f281-4078-c0b6-40ad695bae92"
      },
      "execution_count": null,
      "outputs": [
        {
          "output_type": "stream",
          "name": "stderr",
          "text": [
            "/usr/local/lib/python3.7/dist-packages/pandas/core/generic.py:6619: SettingWithCopyWarning: \n",
            "A value is trying to be set on a copy of a slice from a DataFrame\n",
            "\n",
            "See the caveats in the documentation: https://pandas.pydata.org/pandas-docs/stable/user_guide/indexing.html#returning-a-view-versus-a-copy\n",
            "  return self._update_inplace(result)\n"
          ]
        },
        {
          "output_type": "execute_result",
          "data": {
            "text/plain": [
              "array([0, 1])"
            ]
          },
          "metadata": {},
          "execution_count": 11
        }
      ]
    },
    {
      "cell_type": "markdown",
      "source": [
        "replacing \"Female\" with 1 and \"Male\" with 0."
      ],
      "metadata": {
        "id": "ZD6MwiPj-JaJ"
      }
    },
    {
      "cell_type": "code",
      "source": [
        "yes_no = [ 'Gender', 'Senior Citizen',\n",
        "       'Partner', 'Dependents', 'Phone Service',\n",
        "       'Multiple Lines', 'Online Security',\n",
        "       'Online Backup', 'Device Protection', 'Tech Support', 'Streaming TV',\n",
        "       'Streaming Movies', 'Paperless Billing','Churn Label']\n",
        "for col in yes_no:\n",
        "         telco_1[col].replace({'Yes':1,'No':0},inplace=True)\n"
      ],
      "metadata": {
        "id": "dbhORqHbMLO5"
      },
      "execution_count": null,
      "outputs": []
    },
    {
      "cell_type": "markdown",
      "source": [
        "Replacing the all Yes and No's with 1 and 0 in every column values."
      ],
      "metadata": {
        "id": "CBpEZHCZ-Lsh"
      }
    },
    {
      "cell_type": "code",
      "source": [
        "telco_1[\"Senior Citizen\"].unique()\n",
        "telco_1[\"Partner\"].unique()\n"
      ],
      "metadata": {
        "colab": {
          "base_uri": "https://localhost:8080/"
        },
        "id": "PFg4W16ZOFva",
        "outputId": "0d509b31-c8d3-4540-e1df-410dc3ce67a8"
      },
      "execution_count": null,
      "outputs": [
        {
          "output_type": "execute_result",
          "data": {
            "text/plain": [
              "array([0, 1])"
            ]
          },
          "metadata": {},
          "execution_count": 13
        }
      ]
    },
    {
      "cell_type": "code",
      "source": [
        "#Q6: Please examine the distribution of monthly charges between males and females using box plots. Please explain the results also. \n",
        "\n",
        "\n",
        "sns.boxplot(x=\"Gender\" ,y =\"Monthly Charges\", data = telco_1)\n",
        "plt.title(\"Distribution of Charges\")\n",
        "plt.xlabel(\"Gender Female(1),Male(0)\")\n",
        "plt.ylabel(\"Monthly Charges\")\n",
        "plt.show()"
      ],
      "metadata": {
        "colab": {
          "base_uri": "https://localhost:8080/",
          "height": 295
        },
        "id": "mfuJ__OgOmaI",
        "outputId": "ad05b8e6-9a8b-433c-cfc0-9c163a4eadb3"
      },
      "execution_count": null,
      "outputs": [
        {
          "output_type": "display_data",
          "data": {
            "text/plain": [
              "<Figure size 432x288 with 1 Axes>"
            ],
            "image/png": "[encoded data removed]"
          },
          "metadata": {
            "needs_background": "light"
          }
        }
      ]
    },
    {
      "cell_type": "code",
      "source": [
        "#Q7: Please find what is the minimum total charges for Los Angeles city. Please find which zip code has the maximum total charges.\n",
        "\n",
        "\n",
        "\n",
        "db=telco_1[telco_1[\"City\"]==\"Los Angeles\"]\n",
        "db[db[\"Total Charges\"] == db [\"Total Charges\"].min()] # finding the min total charge for los angeles city\n",
        "\n",
        "\n",
        "\n",
        "\n",
        "#telco_1[\"Total Charges\"].min()\n",
        "\n",
        "\n"
      ],
      "metadata": {
        "colab": {
          "base_uri": "https://localhost:8080/",
          "height": 209
        },
        "id": "uun47peARs4P",
        "outputId": "a14745f6-38c3-4e2b-dd58-459663055d10"
      },
      "execution_count": null,
      "outputs": [
        {
          "output_type": "execute_result",
          "data": {
            "text/plain": [
              "      CustomerID  Count        Country       State         City  Zip Code  \\\n",
              "3087  2967-MXRAV    1.0  United States  California  Los Angeles   90003.0   \n",
              "\n",
              "                    Lat Long   Latitude   Longitude  Gender  ...  Contract  \\\n",
              "3087  33.964131, -118.272783  33.964131 -118.272783       0  ...  One year   \n",
              "\n",
              "      Paperless Billing  Payment Method  Monthly Charges  Total Charges  \\\n",
              "3087                  0    Mailed check             18.8           18.8   \n",
              "\n",
              "      Churn Label Churn Value  Churn Score    CLTV  Churn Reason  \n",
              "3087            0         0.0         51.0  5160.0           NaN  \n",
              "\n",
              "[1 rows x 33 columns]"
            ],
            "text/html": [
              "\n",
              "  <div id=\"df-a3617ae5-1875-4301-af32-b957120acc5d\">\n",
              "    <div class=\"colab-df-container\">\n",
              "      <div>\n",
              "<style scoped>\n",
              "    .dataframe tbody tr th:only-of-type {\n",
              "        vertical-align: middle;\n",
              "    }\n",
              "\n",
              "    .dataframe tbody tr th {\n",
              "        vertical-align: top;\n",
              "    }\n",
              "\n",
              "    .dataframe thead th {\n",
              "        text-align: right;\n",
              "    }\n",
              "</style>\n",
              "<table border=\"1\" class=\"dataframe\">\n",
              "  <thead>\n",
              "    <tr style=\"text-align: right;\">\n",
              "      <th></th>\n",
              "      <th>CustomerID</th>\n",
              "      <th>Count</th>\n",
              "      <th>Country</th>\n",
              "      <th>State</th>\n",
              "      <th>City</th>\n",
              "      <th>Zip Code</th>\n",
              "      <th>Lat Long</th>\n",
              "      <th>Latitude</th>\n",
              "      <th>Longitude</th>\n",
              "      <th>Gender</th>\n",
              "      <th>...</th>\n",
              "      <th>Contract</th>\n",
              "      <th>Paperless Billing</th>\n",
              "      <th>Payment Method</th>\n",
              "      <th>Monthly Charges</th>\n",
              "      <th>Total Charges</th>\n",
              "      <th>Churn Label</th>\n",
              "      <th>Churn Value</th>\n",
              "      <th>Churn Score</th>\n",
              "      <th>CLTV</th>\n",
              "      <th>Churn Reason</th>\n",
              "    </tr>\n",
              "  </thead>\n",
              "  <tbody>\n",
              "    <tr>\n",
              "      <th>3087</th>\n",
              "      <td>2967-MXRAV</td>\n",
              "      <td>1.0</td>\n",
              "      <td>United States</td>\n",
              "      <td>California</td>\n",
              "      <td>Los Angeles</td>\n",
              "      <td>90003.0</td>\n",
              "      <td>33.964131, -118.272783</td>\n",
              "      <td>33.964131</td>\n",
              "      <td>-118.272783</td>\n",
              "      <td>0</td>\n",
              "      <td>...</td>\n",
              "      <td>One year</td>\n",
              "      <td>0</td>\n",
              "      <td>Mailed check</td>\n",
              "      <td>18.8</td>\n",
              "      <td>18.8</td>\n",
              "      <td>0</td>\n",
              "      <td>0.0</td>\n",
              "      <td>51.0</td>\n",
              "      <td>5160.0</td>\n",
              "      <td>NaN</td>\n",
              "    </tr>\n",
              "  </tbody>\n",
              "</table>\n",
              "<p>1 rows × 33 columns</p>\n",
              "</div>\n",
              "      <button class=\"colab-df-convert\" onclick=\"convertToInteractive('df-a3617ae5-1875-4301-af32-b957120acc5d')\"\n",
              "              title=\"Convert this dataframe to an interactive table.\"\n",
              "              style=\"display:none;\">\n",
              "        \n",
              "  <svg xmlns=\"http://www.w3.org/2000/svg\" height=\"24px\"viewBox=\"0 0 24 24\"\n",
              "       width=\"24px\">\n",
              "    <path d=\"M0 0h24v24H0V0z\" fill=\"none\"/>\n",
              "    <path d=\"M18.56 5.44l.94 2.06.94-2.06 2.06-.94-2.06-.94-.94-2.06-.94 2.06-2.06.94zm-11 1L8.5 8.5l.94-2.06 2.06-.94-2.06-.94L8.5 2.5l-.94 2.06-2.06.94zm10 10l.94 2.06.94-2.06 2.06-.94-2.06-.94-.94-2.06-.94 2.06-2.06.94z\"/><path d=\"M17.41 7.96l-1.37-1.37c-.4-.4-.92-.59-1.43-.59-.52 0-1.04.2-1.43.59L10.3 9.45l-7.72 7.72c-.78.78-.78 2.05 0 2.83L4 21.41c.39.39.9.59 1.41.59.51 0 1.02-.2 1.41-.59l7.78-7.78 2.81-2.81c.8-.78.8-2.07 0-2.86zM5.41 20L4 18.59l7.72-7.72 1.47 1.35L5.41 20z\"/>\n",
              "  </svg>\n",
              "      </button>\n",
              "      \n",
              "  <style>\n",
              "    .colab-df-container {\n",
              "      display:flex;\n",
              "      flex-wrap:wrap;\n",
              "      gap: 12px;\n",
              "    }\n",
              "\n",
              "    .colab-df-convert {\n",
              "      background-color: #E8F0FE;\n",
              "      border: none;\n",
              "      border-radius: 50%;\n",
              "      cursor: pointer;\n",
              "      display: none;\n",
              "      fill: #1967D2;\n",
              "      height: 32px;\n",
              "      padding: 0 0 0 0;\n",
              "      width: 32px;\n",
              "    }\n",
              "\n",
              "    .colab-df-convert:hover {\n",
              "      background-color: #E2EBFA;\n",
              "      box-shadow: 0px 1px 2px rgba(60, 64, 67, 0.3), 0px 1px 3px 1px rgba(60, 64, 67, 0.15);\n",
              "      fill: #174EA6;\n",
              "    }\n",
              "\n",
              "    [theme=dark] .colab-df-convert {\n",
              "      background-color: #3B4455;\n",
              "      fill: #D2E3FC;\n",
              "    }\n",
              "\n",
              "    [theme=dark] .colab-df-convert:hover {\n",
              "      background-color: #434B5C;\n",
              "      box-shadow: 0px 1px 3px 1px rgba(0, 0, 0, 0.15);\n",
              "      filter: drop-shadow(0px 1px 2px rgba(0, 0, 0, 0.3));\n",
              "      fill: #FFFFFF;\n",
              "    }\n",
              "  </style>\n",
              "\n",
              "      <script>\n",
              "        const buttonEl =\n",
              "          document.querySelector('#df-a3617ae5-1875-4301-af32-b957120acc5d button.colab-df-convert');\n",
              "        buttonEl.style.display =\n",
              "          google.colab.kernel.accessAllowed ? 'block' : 'none';\n",
              "\n",
              "        async function convertToInteractive(key) {\n",
              "          const element = document.querySelector('#df-a3617ae5-1875-4301-af32-b957120acc5d');\n",
              "          const dataTable =\n",
              "            await google.colab.kernel.invokeFunction('convertToInteractive',\n",
              "                                                     [key], {});\n",
              "          if (!dataTable) return;\n",
              "\n",
              "          const docLinkHtml = 'Like what you see? Visit the ' +\n",
              "            '<a target=\"_blank\" href=https://colab.research.google.com/notebooks/data_table.ipynb>data table notebook</a>'\n",
              "            + ' to learn more about interactive tables.';\n",
              "          element.innerHTML = '';\n",
              "          dataTable['output_type'] = 'display_data';\n",
              "          await google.colab.output.renderOutput(dataTable, element);\n",
              "          const docLink = document.createElement('div');\n",
              "          docLink.innerHTML = docLinkHtml;\n",
              "          element.appendChild(docLink);\n",
              "        }\n",
              "      </script>\n",
              "    </div>\n",
              "  </div>\n",
              "  "
            ]
          },
          "metadata": {},
          "execution_count": 15
        }
      ]
    },
    {
      "cell_type": "code",
      "source": [
        "#telco_1[\"Zip Code\"].max()\n",
        "#telco_1[\"Total Charges\"].max()\n",
        "\n",
        "\n",
        "\n",
        "bd=telco_1[telco_1[\"Total Charges\"]== 8684.8]  # finding the max total charge that  which zip code has. \n",
        "bd[bd[\"Zip Code\"] == bd [\"Zip Code\"].max()]\n",
        "\n",
        "\n"
      ],
      "metadata": {
        "colab": {
          "base_uri": "https://localhost:8080/",
          "height": 261
        },
        "id": "DFpF4DlRSYB3",
        "outputId": "143dedf8-18e0-4d71-ae48-c9be2a5a3f8e"
      },
      "execution_count": null,
      "outputs": [
        {
          "output_type": "execute_result",
          "data": {
            "text/plain": [
              "      CustomerID  Count        Country       State           City  Zip Code  \\\n",
              "1206  2889-FPWRM    1.0  United States  California  Mckinleyville   95519.0   \n",
              "\n",
              "                    Lat Long   Latitude   Longitude Gender  ...  Contract  \\\n",
              "1206  40.965011, -124.015255  40.965011 -124.015255   Male  ...  One year   \n",
              "\n",
              "     Paperless Billing             Payment Method  Monthly Charges  \\\n",
              "1206               Yes  Bank transfer (automatic)            117.8   \n",
              "\n",
              "     Total Charges Churn Label Churn Value Churn Score    CLTV  \\\n",
              "1206        8684.8         Yes         1.0       100.0  4432.0   \n",
              "\n",
              "                                   Churn Reason  \n",
              "1206  Competitor offered higher download speeds  \n",
              "\n",
              "[1 rows x 33 columns]"
            ],
            "text/html": [
              "\n",
              "  <div id=\"df-02e28425-c90e-4a02-9109-94b5301aef06\">\n",
              "    <div class=\"colab-df-container\">\n",
              "      <div>\n",
              "<style scoped>\n",
              "    .dataframe tbody tr th:only-of-type {\n",
              "        vertical-align: middle;\n",
              "    }\n",
              "\n",
              "    .dataframe tbody tr th {\n",
              "        vertical-align: top;\n",
              "    }\n",
              "\n",
              "    .dataframe thead th {\n",
              "        text-align: right;\n",
              "    }\n",
              "</style>\n",
              "<table border=\"1\" class=\"dataframe\">\n",
              "  <thead>\n",
              "    <tr style=\"text-align: right;\">\n",
              "      <th></th>\n",
              "      <th>CustomerID</th>\n",
              "      <th>Count</th>\n",
              "      <th>Country</th>\n",
              "      <th>State</th>\n",
              "      <th>City</th>\n",
              "      <th>Zip Code</th>\n",
              "      <th>Lat Long</th>\n",
              "      <th>Latitude</th>\n",
              "      <th>Longitude</th>\n",
              "      <th>Gender</th>\n",
              "      <th>...</th>\n",
              "      <th>Contract</th>\n",
              "      <th>Paperless Billing</th>\n",
              "      <th>Payment Method</th>\n",
              "      <th>Monthly Charges</th>\n",
              "      <th>Total Charges</th>\n",
              "      <th>Churn Label</th>\n",
              "      <th>Churn Value</th>\n",
              "      <th>Churn Score</th>\n",
              "      <th>CLTV</th>\n",
              "      <th>Churn Reason</th>\n",
              "    </tr>\n",
              "  </thead>\n",
              "  <tbody>\n",
              "    <tr>\n",
              "      <th>1206</th>\n",
              "      <td>2889-FPWRM</td>\n",
              "      <td>1.0</td>\n",
              "      <td>United States</td>\n",
              "      <td>California</td>\n",
              "      <td>Mckinleyville</td>\n",
              "      <td>95519.0</td>\n",
              "      <td>40.965011, -124.015255</td>\n",
              "      <td>40.965011</td>\n",
              "      <td>-124.015255</td>\n",
              "      <td>Male</td>\n",
              "      <td>...</td>\n",
              "      <td>One year</td>\n",
              "      <td>Yes</td>\n",
              "      <td>Bank transfer (automatic)</td>\n",
              "      <td>117.8</td>\n",
              "      <td>8684.8</td>\n",
              "      <td>Yes</td>\n",
              "      <td>1.0</td>\n",
              "      <td>100.0</td>\n",
              "      <td>4432.0</td>\n",
              "      <td>Competitor offered higher download speeds</td>\n",
              "    </tr>\n",
              "  </tbody>\n",
              "</table>\n",
              "<p>1 rows × 33 columns</p>\n",
              "</div>\n",
              "      <button class=\"colab-df-convert\" onclick=\"convertToInteractive('df-02e28425-c90e-4a02-9109-94b5301aef06')\"\n",
              "              title=\"Convert this dataframe to an interactive table.\"\n",
              "              style=\"display:none;\">\n",
              "        \n",
              "  <svg xmlns=\"http://www.w3.org/2000/svg\" height=\"24px\"viewBox=\"0 0 24 24\"\n",
              "       width=\"24px\">\n",
              "    <path d=\"M0 0h24v24H0V0z\" fill=\"none\"/>\n",
              "    <path d=\"M18.56 5.44l.94 2.06.94-2.06 2.06-.94-2.06-.94-.94-2.06-.94 2.06-2.06.94zm-11 1L8.5 8.5l.94-2.06 2.06-.94-2.06-.94L8.5 2.5l-.94 2.06-2.06.94zm10 10l.94 2.06.94-2.06 2.06-.94-2.06-.94-.94-2.06-.94 2.06-2.06.94z\"/><path d=\"M17.41 7.96l-1.37-1.37c-.4-.4-.92-.59-1.43-.59-.52 0-1.04.2-1.43.59L10.3 9.45l-7.72 7.72c-.78.78-.78 2.05 0 2.83L4 21.41c.39.39.9.59 1.41.59.51 0 1.02-.2 1.41-.59l7.78-7.78 2.81-2.81c.8-.78.8-2.07 0-2.86zM5.41 20L4 18.59l7.72-7.72 1.47 1.35L5.41 20z\"/>\n",
              "  </svg>\n",
              "      </button>\n",
              "      \n",
              "  <style>\n",
              "    .colab-df-container {\n",
              "      display:flex;\n",
              "      flex-wrap:wrap;\n",
              "      gap: 12px;\n",
              "    }\n",
              "\n",
              "    .colab-df-convert {\n",
              "      background-color: #E8F0FE;\n",
              "      border: none;\n",
              "      border-radius: 50%;\n",
              "      cursor: pointer;\n",
              "      display: none;\n",
              "      fill: #1967D2;\n",
              "      height: 32px;\n",
              "      padding: 0 0 0 0;\n",
              "      width: 32px;\n",
              "    }\n",
              "\n",
              "    .colab-df-convert:hover {\n",
              "      background-color: #E2EBFA;\n",
              "      box-shadow: 0px 1px 2px rgba(60, 64, 67, 0.3), 0px 1px 3px 1px rgba(60, 64, 67, 0.15);\n",
              "      fill: #174EA6;\n",
              "    }\n",
              "\n",
              "    [theme=dark] .colab-df-convert {\n",
              "      background-color: #3B4455;\n",
              "      fill: #D2E3FC;\n",
              "    }\n",
              "\n",
              "    [theme=dark] .colab-df-convert:hover {\n",
              "      background-color: #434B5C;\n",
              "      box-shadow: 0px 1px 3px 1px rgba(0, 0, 0, 0.15);\n",
              "      filter: drop-shadow(0px 1px 2px rgba(0, 0, 0, 0.3));\n",
              "      fill: #FFFFFF;\n",
              "    }\n",
              "  </style>\n",
              "\n",
              "      <script>\n",
              "        const buttonEl =\n",
              "          document.querySelector('#df-02e28425-c90e-4a02-9109-94b5301aef06 button.colab-df-convert');\n",
              "        buttonEl.style.display =\n",
              "          google.colab.kernel.accessAllowed ? 'block' : 'none';\n",
              "\n",
              "        async function convertToInteractive(key) {\n",
              "          const element = document.querySelector('#df-02e28425-c90e-4a02-9109-94b5301aef06');\n",
              "          const dataTable =\n",
              "            await google.colab.kernel.invokeFunction('convertToInteractive',\n",
              "                                                     [key], {});\n",
              "          if (!dataTable) return;\n",
              "\n",
              "          const docLinkHtml = 'Like what you see? Visit the ' +\n",
              "            '<a target=\"_blank\" href=https://colab.research.google.com/notebooks/data_table.ipynb>data table notebook</a>'\n",
              "            + ' to learn more about interactive tables.';\n",
              "          element.innerHTML = '';\n",
              "          dataTable['output_type'] = 'display_data';\n",
              "          await google.colab.output.renderOutput(dataTable, element);\n",
              "          const docLink = document.createElement('div');\n",
              "          docLink.innerHTML = docLinkHtml;\n",
              "          element.appendChild(docLink);\n",
              "        }\n",
              "      </script>\n",
              "    </div>\n",
              "  </div>\n",
              "  "
            ]
          },
          "metadata": {},
          "execution_count": 50
        }
      ]
    },
    {
      "cell_type": "markdown",
      "source": [
        "In regplot, we can see the line which shows that there is a positive corelation. so,that monthly charges and total charges are positively corelated."
      ],
      "metadata": {
        "id": "LyvWLLNTXgpO"
      }
    },
    {
      "cell_type": "code",
      "source": [
        "#Q8: Please find which payment method has the highest churn score and which has the lowest churn score.\n",
        "\n",
        "plt.figure(figsize=(10,8))\n",
        "sns.boxplot(x=\"Payment Method\" , y= \"Churn Score\" , data = telco_1)"
      ],
      "metadata": {
        "colab": {
          "base_uri": "https://localhost:8080/",
          "height": 514
        },
        "id": "kw4AcGwidDn4",
        "outputId": "a6f02937-edf5-449a-a3b0-b458f860192d"
      },
      "execution_count": null,
      "outputs": [
        {
          "output_type": "execute_result",
          "data": {
            "text/plain": [
              "<matplotlib.axes._subplots.AxesSubplot at 0x7ffa86736410>"
            ]
          },
          "metadata": {},
          "execution_count": 192
        },
        {
          "output_type": "display_data",
          "data": {
            "text/plain": [
              "<Figure size 720x576 with 1 Axes>"
            ],
            "image/png": "[encoded data removed]"
          },
          "metadata": {
            "needs_background": "light"
          }
        }
      ]
    },
    {
      "cell_type": "markdown",
      "source": [
        "we can see that Electronic Check having the highest churn score and rest are having lowest churn score when compared to Electronic check payment method."
      ],
      "metadata": {
        "id": "rK7Rlsiq6rg_"
      }
    },
    {
      "cell_type": "code",
      "source": [
        "#Q9: Please create an appropriate plot to check the count of payment methods and explain it.\n",
        "\n",
        "\n",
        "telco_1.groupby(by = \"Payment Method\").size() # using groupby function and size , gives the exact values that are present in the dataset"
      ],
      "metadata": {
        "colab": {
          "base_uri": "https://localhost:8080/"
        },
        "id": "m9kImRzmgQhf",
        "outputId": "61f6901a-d7ee-499c-e8e6-7b56cfb21c67"
      },
      "execution_count": null,
      "outputs": [
        {
          "output_type": "execute_result",
          "data": {
            "text/plain": [
              "Payment Method\n",
              "Bank transfer (automatic)    1542\n",
              "Credit card (automatic)      1521\n",
              "Electronic check             2365\n",
              "Mailed check                 1604\n",
              "dtype: int64"
            ]
          },
          "metadata": {},
          "execution_count": 222
        }
      ]
    },
    {
      "cell_type": "code",
      "source": [
        "\n",
        "plt.figure(figsize=(10,8))  #giving the plot height and width\n",
        "plt.title(\"Count of payment\") # title of the plot\n",
        "plt.xlabel(\"Payment Methods\")\n",
        "plt.ylabel(\"Count\")\n",
        "sns.countplot(x = \"Payment Method\" ,data = telco_1) "
      ],
      "metadata": {
        "colab": {
          "base_uri": "https://localhost:8080/",
          "height": 530
        },
        "id": "WqmE_7ZJX7x6",
        "outputId": "d354c559-f488-408b-8b8e-773ea652273a"
      },
      "execution_count": 16,
      "outputs": [
        {
          "output_type": "execute_result",
          "data": {
            "text/plain": [
              "<matplotlib.axes._subplots.AxesSubplot at 0x7fb895232050>"
            ]
          },
          "metadata": {},
          "execution_count": 16
        },
        {
          "output_type": "display_data",
          "data": {
            "text/plain": [
              "<Figure size 720x576 with 1 Axes>"
            ],
            "image/png": "[encoded data removed]"
          },
          "metadata": {
            "needs_background": "light"
          }
        }
      ]
    },
    {
      "cell_type": "markdown",
      "source": [
        "It is observed that the most of the customers are used Electronic Check for payment of bills"
      ],
      "metadata": {
        "id": "DkwyY68GapXG"
      }
    },
    {
      "cell_type": "code",
      "source": [
        "#Q10: Please create an appropriate plot to see the relationship between monthly charges and total charges.\n",
        "\n",
        "sns.scatterplot(x ='Monthly Charges' , y = 'Total Charges' , data = telco_1 )\n",
        "plt.title(\"Relationship between Monthly charges and Total charges\") # giving the title for plot\n",
        "plt.xlabel(\"Monthly Charges\")\n",
        "plt.ylabel(\"Total Charges\")\n",
        "plt.show() # printout"
      ],
      "metadata": {
        "colab": {
          "base_uri": "https://localhost:8080/",
          "height": 296
        },
        "id": "1cNQJRXWVBiQ",
        "outputId": "3d27e886-c2fb-4b33-dcb2-817f0cc68118"
      },
      "execution_count": null,
      "outputs": [
        {
          "output_type": "execute_result",
          "data": {
            "text/plain": [
              "<matplotlib.axes._subplots.AxesSubplot at 0x7ffa90532b50>"
            ]
          },
          "metadata": {},
          "execution_count": 162
        },
        {
          "output_type": "display_data",
          "data": {
            "text/plain": [
              "<Figure size 432x288 with 1 Axes>"
            ],
            "image/png": "[encoded data removed]"
          },
          "metadata": {
            "needs_background": "light"
          }
        }
      ]
    },
    {
      "cell_type": "code",
      "source": [
        "sns.regplot(x ='Monthly Charges' , y = 'Total Charges' , data = telco_1 )"
      ],
      "metadata": {
        "colab": {
          "base_uri": "https://localhost:8080/",
          "height": 296
        },
        "id": "r_Iv5wCZVn2v",
        "outputId": "8ade63b2-e509-466b-f88f-343b33a804c4"
      },
      "execution_count": null,
      "outputs": [
        {
          "output_type": "execute_result",
          "data": {
            "text/plain": [
              "<matplotlib.axes._subplots.AxesSubplot at 0x7ffa904f29d0>"
            ]
          },
          "metadata": {},
          "execution_count": 163
        },
        {
          "output_type": "display_data",
          "data": {
            "text/plain": [
              "<Figure size 432x288 with 1 Axes>"
            ],
            "image/png": "[encoded data removed]"
          },
          "metadata": {
            "needs_background": "light"
          }
        }
      ]
    },
    {
      "cell_type": "markdown",
      "source": [
        "In regplot, we can see the line which shows that there is a positive corelation. so,that monthly charges and total charges are positively corelated."
      ],
      "metadata": {
        "id": "CfoQgxfo_BnM"
      }
    }
  ]
}